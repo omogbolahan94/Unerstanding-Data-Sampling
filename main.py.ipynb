{
 "cells": [
  {
   "cell_type": "code",
   "execution_count": 35,
   "id": "51aa11dc",
   "metadata": {},
   "outputs": [],
   "source": [
    "import numpy as np\n",
    "import pandas as pd\n",
    "import matplotlib.pyplot as plt"
   ]
  },
  {
   "cell_type": "markdown",
   "id": "29493597",
   "metadata": {},
   "source": [
    "## Sampling\n",
    "\n",
    "Sampling is the heart of inferential statistics and hypothesis testing. It is used to draw conclusion without surveying an entire population.\n",
    "\n",
    "It's not always appropriate but it can be really useful when you are dealing with data that is very large example one Terabyte data or the population of a country.\n",
    "\n",
    "For a smaller dataset (10 observations), sampling is not justified."
   ]
  },
  {
   "cell_type": "markdown",
   "id": "133b433c",
   "metadata": {},
   "source": [
    "### Simple Random Sampling (SRS)"
   ]
  },
  {
   "cell_type": "code",
   "execution_count": 6,
   "id": "bd20ce66",
   "metadata": {},
   "outputs": [],
   "source": [
    "import pyarrow\n",
    "# population in the sense that we are talking about all observations of the data set\n",
    "spotify_population = pd.read_feather('https://assets.datacamp.com/production/repositories/5975/datasets/18d07c39535b900b64dc145985d9e8dfbf2ca498/spotify_2000_2020.feather')"
   ]
  },
  {
   "cell_type": "code",
   "execution_count": 8,
   "id": "ef0cf20a",
   "metadata": {},
   "outputs": [
    {
     "name": "stdout",
     "output_type": "stream",
     "text": [
      "<class 'pandas.core.frame.DataFrame'>\n",
      "RangeIndex: 41656 entries, 0 to 41655\n",
      "Data columns (total 20 columns):\n",
      " #   Column            Non-Null Count  Dtype  \n",
      "---  ------            --------------  -----  \n",
      " 0   acousticness      41656 non-null  float64\n",
      " 1   artists           41656 non-null  object \n",
      " 2   danceability      41656 non-null  float64\n",
      " 3   duration_ms       41656 non-null  float64\n",
      " 4   duration_minutes  41656 non-null  float64\n",
      " 5   energy            41656 non-null  float64\n",
      " 6   explicit          41656 non-null  float64\n",
      " 7   id                41656 non-null  object \n",
      " 8   instrumentalness  41656 non-null  float64\n",
      " 9   key               41656 non-null  float64\n",
      " 10  liveness          41656 non-null  float64\n",
      " 11  loudness          41656 non-null  float64\n",
      " 12  mode              41656 non-null  float64\n",
      " 13  name              41656 non-null  object \n",
      " 14  popularity        41656 non-null  float64\n",
      " 15  release_date      41656 non-null  object \n",
      " 16  speechiness       41656 non-null  float64\n",
      " 17  tempo             41656 non-null  float64\n",
      " 18  valence           41656 non-null  float64\n",
      " 19  year              41656 non-null  float64\n",
      "dtypes: float64(16), object(4)\n",
      "memory usage: 6.4+ MB\n"
     ]
    }
   ],
   "source": [
    "spotify_population.info()"
   ]
  },
  {
   "cell_type": "code",
   "execution_count": 7,
   "id": "40cf3163",
   "metadata": {},
   "outputs": [
    {
     "data": {
      "text/html": [
       "<div>\n",
       "<style scoped>\n",
       "    .dataframe tbody tr th:only-of-type {\n",
       "        vertical-align: middle;\n",
       "    }\n",
       "\n",
       "    .dataframe tbody tr th {\n",
       "        vertical-align: top;\n",
       "    }\n",
       "\n",
       "    .dataframe thead th {\n",
       "        text-align: right;\n",
       "    }\n",
       "</style>\n",
       "<table border=\"1\" class=\"dataframe\">\n",
       "  <thead>\n",
       "    <tr style=\"text-align: right;\">\n",
       "      <th></th>\n",
       "      <th>acousticness</th>\n",
       "      <th>artists</th>\n",
       "      <th>danceability</th>\n",
       "      <th>duration_ms</th>\n",
       "      <th>duration_minutes</th>\n",
       "      <th>energy</th>\n",
       "      <th>explicit</th>\n",
       "      <th>id</th>\n",
       "      <th>instrumentalness</th>\n",
       "      <th>key</th>\n",
       "      <th>liveness</th>\n",
       "      <th>loudness</th>\n",
       "      <th>mode</th>\n",
       "      <th>name</th>\n",
       "      <th>popularity</th>\n",
       "      <th>release_date</th>\n",
       "      <th>speechiness</th>\n",
       "      <th>tempo</th>\n",
       "      <th>valence</th>\n",
       "      <th>year</th>\n",
       "    </tr>\n",
       "  </thead>\n",
       "  <tbody>\n",
       "    <tr>\n",
       "      <th>0</th>\n",
       "      <td>0.97200</td>\n",
       "      <td>['David Bauer']</td>\n",
       "      <td>0.567</td>\n",
       "      <td>313293.0</td>\n",
       "      <td>5.221550</td>\n",
       "      <td>0.227</td>\n",
       "      <td>0.0</td>\n",
       "      <td>0w0D8H1ubRerCXHWYJkinO</td>\n",
       "      <td>0.601000</td>\n",
       "      <td>10.0</td>\n",
       "      <td>0.110</td>\n",
       "      <td>-13.441</td>\n",
       "      <td>1.0</td>\n",
       "      <td>Shout to the Lord</td>\n",
       "      <td>47.0</td>\n",
       "      <td>2000</td>\n",
       "      <td>0.0290</td>\n",
       "      <td>136.123</td>\n",
       "      <td>0.0396</td>\n",
       "      <td>2000.0</td>\n",
       "    </tr>\n",
       "    <tr>\n",
       "      <th>1</th>\n",
       "      <td>0.32100</td>\n",
       "      <td>['Etta James']</td>\n",
       "      <td>0.821</td>\n",
       "      <td>360240.0</td>\n",
       "      <td>6.004000</td>\n",
       "      <td>0.418</td>\n",
       "      <td>0.0</td>\n",
       "      <td>4JVeqfE2tpi7Pv63LJZtPh</td>\n",
       "      <td>0.000372</td>\n",
       "      <td>9.0</td>\n",
       "      <td>0.222</td>\n",
       "      <td>-9.841</td>\n",
       "      <td>0.0</td>\n",
       "      <td>Miss You</td>\n",
       "      <td>51.0</td>\n",
       "      <td>2000-12-12</td>\n",
       "      <td>0.0407</td>\n",
       "      <td>117.382</td>\n",
       "      <td>0.8030</td>\n",
       "      <td>2000.0</td>\n",
       "    </tr>\n",
       "    <tr>\n",
       "      <th>2</th>\n",
       "      <td>0.00659</td>\n",
       "      <td>['Quasimoto']</td>\n",
       "      <td>0.706</td>\n",
       "      <td>202507.0</td>\n",
       "      <td>3.375117</td>\n",
       "      <td>0.602</td>\n",
       "      <td>1.0</td>\n",
       "      <td>5pxtdhLAi0RTh1gNqhGMNA</td>\n",
       "      <td>0.000138</td>\n",
       "      <td>11.0</td>\n",
       "      <td>0.400</td>\n",
       "      <td>-8.306</td>\n",
       "      <td>0.0</td>\n",
       "      <td>Real Eyes</td>\n",
       "      <td>44.0</td>\n",
       "      <td>2000-06-13</td>\n",
       "      <td>0.3420</td>\n",
       "      <td>89.692</td>\n",
       "      <td>0.4790</td>\n",
       "      <td>2000.0</td>\n",
       "    </tr>\n",
       "    <tr>\n",
       "      <th>3</th>\n",
       "      <td>0.00390</td>\n",
       "      <td>['Millencolin']</td>\n",
       "      <td>0.368</td>\n",
       "      <td>173360.0</td>\n",
       "      <td>2.889333</td>\n",
       "      <td>0.977</td>\n",
       "      <td>0.0</td>\n",
       "      <td>3jRsoe4Vkxa4BMYqGHX8L0</td>\n",
       "      <td>0.000000</td>\n",
       "      <td>11.0</td>\n",
       "      <td>0.350</td>\n",
       "      <td>-2.757</td>\n",
       "      <td>0.0</td>\n",
       "      <td>Penguins &amp; Polarbears</td>\n",
       "      <td>52.0</td>\n",
       "      <td>2000-02-22</td>\n",
       "      <td>0.1270</td>\n",
       "      <td>165.889</td>\n",
       "      <td>0.5480</td>\n",
       "      <td>2000.0</td>\n",
       "    </tr>\n",
       "    <tr>\n",
       "      <th>4</th>\n",
       "      <td>0.12200</td>\n",
       "      <td>['Steve Chou']</td>\n",
       "      <td>0.501</td>\n",
       "      <td>344200.0</td>\n",
       "      <td>5.736667</td>\n",
       "      <td>0.511</td>\n",
       "      <td>0.0</td>\n",
       "      <td>4mronxcllhfyhBRqyZi8kU</td>\n",
       "      <td>0.000000</td>\n",
       "      <td>7.0</td>\n",
       "      <td>0.279</td>\n",
       "      <td>-9.836</td>\n",
       "      <td>0.0</td>\n",
       "      <td>黃昏</td>\n",
       "      <td>53.0</td>\n",
       "      <td>2000-12-25</td>\n",
       "      <td>0.0291</td>\n",
       "      <td>78.045</td>\n",
       "      <td>0.1130</td>\n",
       "      <td>2000.0</td>\n",
       "    </tr>\n",
       "  </tbody>\n",
       "</table>\n",
       "</div>"
      ],
      "text/plain": [
       "   acousticness          artists  danceability  duration_ms  duration_minutes  \\\n",
       "0       0.97200  ['David Bauer']         0.567     313293.0          5.221550   \n",
       "1       0.32100   ['Etta James']         0.821     360240.0          6.004000   \n",
       "2       0.00659    ['Quasimoto']         0.706     202507.0          3.375117   \n",
       "3       0.00390  ['Millencolin']         0.368     173360.0          2.889333   \n",
       "4       0.12200   ['Steve Chou']         0.501     344200.0          5.736667   \n",
       "\n",
       "   energy  explicit                      id  instrumentalness   key  liveness  \\\n",
       "0   0.227       0.0  0w0D8H1ubRerCXHWYJkinO          0.601000  10.0     0.110   \n",
       "1   0.418       0.0  4JVeqfE2tpi7Pv63LJZtPh          0.000372   9.0     0.222   \n",
       "2   0.602       1.0  5pxtdhLAi0RTh1gNqhGMNA          0.000138  11.0     0.400   \n",
       "3   0.977       0.0  3jRsoe4Vkxa4BMYqGHX8L0          0.000000  11.0     0.350   \n",
       "4   0.511       0.0  4mronxcllhfyhBRqyZi8kU          0.000000   7.0     0.279   \n",
       "\n",
       "   loudness  mode                   name  popularity release_date  \\\n",
       "0   -13.441   1.0      Shout to the Lord        47.0         2000   \n",
       "1    -9.841   0.0               Miss You        51.0   2000-12-12   \n",
       "2    -8.306   0.0              Real Eyes        44.0   2000-06-13   \n",
       "3    -2.757   0.0  Penguins & Polarbears        52.0   2000-02-22   \n",
       "4    -9.836   0.0                     黃昏        53.0   2000-12-25   \n",
       "\n",
       "   speechiness    tempo  valence    year  \n",
       "0       0.0290  136.123   0.0396  2000.0  \n",
       "1       0.0407  117.382   0.8030  2000.0  \n",
       "2       0.3420   89.692   0.4790  2000.0  \n",
       "3       0.1270  165.889   0.5480  2000.0  \n",
       "4       0.0291   78.045   0.1130  2000.0  "
      ]
     },
     "execution_count": 7,
     "metadata": {},
     "output_type": "execute_result"
    }
   ],
   "source": [
    "spotify_population.head()"
   ]
  },
  {
   "cell_type": "markdown",
   "id": "8bbd4bd4",
   "metadata": {},
   "source": [
    "* Create a sample of 1000 observations from the spotify_population"
   ]
  },
  {
   "cell_type": "code",
   "execution_count": 41,
   "id": "bfd1dc0c",
   "metadata": {},
   "outputs": [],
   "source": [
    "np.random.seed(1)"
   ]
  },
  {
   "cell_type": "code",
   "execution_count": 119,
   "id": "44e31ea1",
   "metadata": {},
   "outputs": [],
   "source": [
    "# 1000 samples drawn from the whole population data without replacement\n",
    "spotify_sample = spotify_population.sample(n=1000).reset_index(drop=True)"
   ]
  },
  {
   "cell_type": "code",
   "execution_count": 114,
   "id": "b834735a",
   "metadata": {},
   "outputs": [
    {
     "data": {
      "text/html": [
       "<div>\n",
       "<style scoped>\n",
       "    .dataframe tbody tr th:only-of-type {\n",
       "        vertical-align: middle;\n",
       "    }\n",
       "\n",
       "    .dataframe tbody tr th {\n",
       "        vertical-align: top;\n",
       "    }\n",
       "\n",
       "    .dataframe thead th {\n",
       "        text-align: right;\n",
       "    }\n",
       "</style>\n",
       "<table border=\"1\" class=\"dataframe\">\n",
       "  <thead>\n",
       "    <tr style=\"text-align: right;\">\n",
       "      <th></th>\n",
       "      <th>acousticness</th>\n",
       "      <th>artists</th>\n",
       "      <th>danceability</th>\n",
       "      <th>duration_ms</th>\n",
       "      <th>duration_minutes</th>\n",
       "      <th>energy</th>\n",
       "      <th>explicit</th>\n",
       "      <th>id</th>\n",
       "      <th>instrumentalness</th>\n",
       "      <th>key</th>\n",
       "      <th>liveness</th>\n",
       "      <th>loudness</th>\n",
       "      <th>mode</th>\n",
       "      <th>name</th>\n",
       "      <th>popularity</th>\n",
       "      <th>release_date</th>\n",
       "      <th>speechiness</th>\n",
       "      <th>tempo</th>\n",
       "      <th>valence</th>\n",
       "      <th>year</th>\n",
       "    </tr>\n",
       "  </thead>\n",
       "  <tbody>\n",
       "    <tr>\n",
       "      <th>30303</th>\n",
       "      <td>0.288000</td>\n",
       "      <td>['Queen']</td>\n",
       "      <td>0.392</td>\n",
       "      <td>354320.0</td>\n",
       "      <td>5.905333</td>\n",
       "      <td>0.402</td>\n",
       "      <td>0.0</td>\n",
       "      <td>2GAIycsMaDVtMtdvxzR2xI</td>\n",
       "      <td>0.000000</td>\n",
       "      <td>0.0</td>\n",
       "      <td>0.2430</td>\n",
       "      <td>-9.961</td>\n",
       "      <td>0.0</td>\n",
       "      <td>Bohemian Rhapsody - 2011 Mix</td>\n",
       "      <td>54.0</td>\n",
       "      <td>2011-01-01</td>\n",
       "      <td>0.0536</td>\n",
       "      <td>143.883</td>\n",
       "      <td>0.228</td>\n",
       "      <td>2011.0</td>\n",
       "    </tr>\n",
       "    <tr>\n",
       "      <th>2180</th>\n",
       "      <td>0.000847</td>\n",
       "      <td>['Judas Priest']</td>\n",
       "      <td>0.292</td>\n",
       "      <td>468200.0</td>\n",
       "      <td>7.803333</td>\n",
       "      <td>0.326</td>\n",
       "      <td>0.0</td>\n",
       "      <td>3DzuE1BqSz6LAgml4Di5bc</td>\n",
       "      <td>0.225000</td>\n",
       "      <td>2.0</td>\n",
       "      <td>0.0864</td>\n",
       "      <td>-13.920</td>\n",
       "      <td>1.0</td>\n",
       "      <td>Victim Of Changes</td>\n",
       "      <td>39.0</td>\n",
       "      <td>2000-05-09</td>\n",
       "      <td>0.0332</td>\n",
       "      <td>74.186</td>\n",
       "      <td>0.255</td>\n",
       "      <td>2000.0</td>\n",
       "    </tr>\n",
       "    <tr>\n",
       "      <th>9183</th>\n",
       "      <td>0.104000</td>\n",
       "      <td>['Milly Quezada', 'Los Vecinos']</td>\n",
       "      <td>0.609</td>\n",
       "      <td>298107.0</td>\n",
       "      <td>4.968450</td>\n",
       "      <td>0.851</td>\n",
       "      <td>0.0</td>\n",
       "      <td>20js1xS9eDxHcHVoVQASPO</td>\n",
       "      <td>0.000000</td>\n",
       "      <td>5.0</td>\n",
       "      <td>0.1810</td>\n",
       "      <td>-5.738</td>\n",
       "      <td>1.0</td>\n",
       "      <td>Entre Tu Cuerpo y el Mio</td>\n",
       "      <td>45.0</td>\n",
       "      <td>2007-03-20</td>\n",
       "      <td>0.0409</td>\n",
       "      <td>142.655</td>\n",
       "      <td>0.741</td>\n",
       "      <td>2007.0</td>\n",
       "    </tr>\n",
       "    <tr>\n",
       "      <th>23127</th>\n",
       "      <td>0.676000</td>\n",
       "      <td>['Maxwell']</td>\n",
       "      <td>0.467</td>\n",
       "      <td>240320.0</td>\n",
       "      <td>4.005333</td>\n",
       "      <td>0.329</td>\n",
       "      <td>0.0</td>\n",
       "      <td>741OE401HO7ZCaPhEqCZ7w</td>\n",
       "      <td>0.000037</td>\n",
       "      <td>8.0</td>\n",
       "      <td>0.1080</td>\n",
       "      <td>-9.165</td>\n",
       "      <td>1.0</td>\n",
       "      <td>This Woman's Work</td>\n",
       "      <td>57.0</td>\n",
       "      <td>2001-08-14</td>\n",
       "      <td>0.0326</td>\n",
       "      <td>113.643</td>\n",
       "      <td>0.141</td>\n",
       "      <td>2001.0</td>\n",
       "    </tr>\n",
       "    <tr>\n",
       "      <th>2745</th>\n",
       "      <td>0.000011</td>\n",
       "      <td>['Godsmack']</td>\n",
       "      <td>0.522</td>\n",
       "      <td>277960.0</td>\n",
       "      <td>4.632667</td>\n",
       "      <td>0.915</td>\n",
       "      <td>0.0</td>\n",
       "      <td>4mdLhNq7wQqzBV1QjJYOyW</td>\n",
       "      <td>0.000039</td>\n",
       "      <td>5.0</td>\n",
       "      <td>0.1440</td>\n",
       "      <td>-6.197</td>\n",
       "      <td>1.0</td>\n",
       "      <td>No Rest For The Wicked</td>\n",
       "      <td>45.0</td>\n",
       "      <td>2006-01-01</td>\n",
       "      <td>0.0338</td>\n",
       "      <td>105.682</td>\n",
       "      <td>0.550</td>\n",
       "      <td>2006.0</td>\n",
       "    </tr>\n",
       "  </tbody>\n",
       "</table>\n",
       "</div>"
      ],
      "text/plain": [
       "       acousticness                           artists  danceability  \\\n",
       "30303      0.288000                         ['Queen']         0.392   \n",
       "2180       0.000847                  ['Judas Priest']         0.292   \n",
       "9183       0.104000  ['Milly Quezada', 'Los Vecinos']         0.609   \n",
       "23127      0.676000                       ['Maxwell']         0.467   \n",
       "2745       0.000011                      ['Godsmack']         0.522   \n",
       "\n",
       "       duration_ms  duration_minutes  energy  explicit  \\\n",
       "30303     354320.0          5.905333   0.402       0.0   \n",
       "2180      468200.0          7.803333   0.326       0.0   \n",
       "9183      298107.0          4.968450   0.851       0.0   \n",
       "23127     240320.0          4.005333   0.329       0.0   \n",
       "2745      277960.0          4.632667   0.915       0.0   \n",
       "\n",
       "                           id  instrumentalness  key  liveness  loudness  \\\n",
       "30303  2GAIycsMaDVtMtdvxzR2xI          0.000000  0.0    0.2430    -9.961   \n",
       "2180   3DzuE1BqSz6LAgml4Di5bc          0.225000  2.0    0.0864   -13.920   \n",
       "9183   20js1xS9eDxHcHVoVQASPO          0.000000  5.0    0.1810    -5.738   \n",
       "23127  741OE401HO7ZCaPhEqCZ7w          0.000037  8.0    0.1080    -9.165   \n",
       "2745   4mdLhNq7wQqzBV1QjJYOyW          0.000039  5.0    0.1440    -6.197   \n",
       "\n",
       "       mode                          name  popularity release_date  \\\n",
       "30303   0.0  Bohemian Rhapsody - 2011 Mix        54.0   2011-01-01   \n",
       "2180    1.0             Victim Of Changes        39.0   2000-05-09   \n",
       "9183    1.0      Entre Tu Cuerpo y el Mio        45.0   2007-03-20   \n",
       "23127   1.0             This Woman's Work        57.0   2001-08-14   \n",
       "2745    1.0        No Rest For The Wicked        45.0   2006-01-01   \n",
       "\n",
       "       speechiness    tempo  valence    year  \n",
       "30303       0.0536  143.883    0.228  2011.0  \n",
       "2180        0.0332   74.186    0.255  2000.0  \n",
       "9183        0.0409  142.655    0.741  2007.0  \n",
       "23127       0.0326  113.643    0.141  2001.0  \n",
       "2745        0.0338  105.682    0.550  2006.0  "
      ]
     },
     "execution_count": 114,
     "metadata": {},
     "output_type": "execute_result"
    }
   ],
   "source": [
    "spotify_sample.head()"
   ]
  },
  {
   "cell_type": "code",
   "execution_count": 115,
   "id": "1001728c",
   "metadata": {},
   "outputs": [],
   "source": [
    "# calculate the average in minute for population and sample data:\n",
    "# Population parameter and point estimate respectively\n",
    "\n",
    "pop_dur_min_avg = round(spotify_population['duration_minutes'].mean(), 3)\n",
    "samp_dur_min_avg = round(spotify_sample['duration_minutes'].mean(), 3)"
   ]
  },
  {
   "cell_type": "code",
   "execution_count": 116,
   "id": "b27e7fd2",
   "metadata": {},
   "outputs": [
    {
     "name": "stdout",
     "output_type": "stream",
     "text": [
      "Population and Sample Average Duration in Minutes is:\n",
      "(3.852, 3.793)\n"
     ]
    }
   ],
   "source": [
    "print(f'Population and Sample Average Duration in Minutes is:\\n({pop_dur_min_avg}, {samp_dur_min_avg})')"
   ]
  },
  {
   "cell_type": "markdown",
   "id": "d43f5595",
   "metadata": {},
   "source": [
    "From the result above, you will notive the two results are similar but not identical. That is, the sample mean of duration in minutes is close the the whole population mean of duration in minutes."
   ]
  },
  {
   "cell_type": "markdown",
   "id": "5585c76d",
   "metadata": {},
   "source": [
    "#### How well does the sample represents the whole population? \n",
    "\n",
    "The Spotify dataset contains an acousticness column, which is a confidence measure from zero to one of whether the track was made with instruments that aren’t plugged in.\n",
    "\n",
    "Visualizing the sample and population distribution, we can determine if the sample is representative of the whole population. "
   ]
  },
  {
   "cell_type": "code",
   "execution_count": 117,
   "id": "d3723432",
   "metadata": {},
   "outputs": [
    {
     "data": {
      "text/plain": [
       "4178"
      ]
     },
     "execution_count": 117,
     "metadata": {},
     "output_type": "execute_result"
    }
   ],
   "source": [
    "spotify_population['acousticness'].nunique() "
   ]
  },
  {
   "cell_type": "code",
   "execution_count": 118,
   "id": "1ad6dd62",
   "metadata": {},
   "outputs": [
    {
     "data": {
      "image/png": "[encoded data removed]",
      "text/plain": [
       "<Figure size 432x288 with 2 Axes>"
      ]
     },
     "metadata": {
      "needs_background": "light"
     },
     "output_type": "display_data"
    }
   ],
   "source": [
    "# population acoustic mean\n",
    "\n",
    "# plot in the first column\n",
    "plt.subplot(1, 2, 1);\n",
    "plt.hist(spotify_population['acousticness'], bins=np.arange(0, 1+0.01, 0.01));\n",
    "\n",
    "# second plot\n",
    "plt.subplot(1, 2, 2)\n",
    "plt.hist(spotify_sample['acousticness'], bins=np.arange(0, 1+0.01, 0.01))\n",
    "\n",
    "plt.show()"
   ]
  },
  {
   "cell_type": "code",
   "execution_count": 76,
   "id": "114c441c",
   "metadata": {},
   "outputs": [],
   "source": [
    "# using an unknown spotify data with the same features as the previously import spotify data\n",
    "mysterious_sample = pd.read_csv('https://docs.google.com/spreadsheets/d/e/2PACX-1vRap3kWpwEhSDTpqc_LrCbTQIY9qLhnpZP17axDfsGUSOV6DL_fJsqNp9vXbCAjfzrBds8c3NCJZg2f/pub?gid=709023650&single=true&output=csv')\n",
    "\n",
    "# subset the spotify_population values based on the index of the mysterious data\n",
    "spotify_mysterious_sample = spotify_population.loc[mysterious_sample['index'].to_numpy()]"
   ]
  },
  {
   "cell_type": "code",
   "execution_count": 88,
   "id": "bbad4769",
   "metadata": {},
   "outputs": [
    {
     "data": {
      "image/png": "[encoded data removed]",
      "text/plain": [
       "<Figure size 432x288 with 1 Axes>"
      ]
     },
     "metadata": {
      "needs_background": "light"
     },
     "output_type": "display_data"
    },
    {
     "name": "stdout",
     "output_type": "stream",
     "text": [
      "0.951 0.996\n"
     ]
    }
   ],
   "source": [
    "plt.hist(spotify_mysterious_sample['acousticness'], bins=np.arange(0, 1+0.01, 0.01))\n",
    "plt.show()\n",
    "\n",
    "print(spotify_mysterious_sample['acousticness'].min(), spotify_mysterious_sample['acousticness'].max())"
   ]
  },
  {
   "cell_type": "markdown",
   "id": "a9df52d6",
   "metadata": {},
   "source": [
    "As can be seen, the mysterious data distribution is not a representative of the populaton distribution. This is because all the misterious values are in the range of `0.951 and 0.996`.\n",
    "\n",
    "This is bias because it does not include values between `0 and 0.95`"
   ]
  },
  {
   "cell_type": "code",
   "execution_count": null,
   "id": "3a1b2079",
   "metadata": {},
   "outputs": [],
   "source": []
  },
  {
   "cell_type": "markdown",
   "id": "e85bdce9",
   "metadata": {},
   "source": [
    "### Systematic Sampling\n",
    "\n",
    "In this type of sampling, observations are selected from population at regular intervals.\n",
    "\n",
    "For example, if the population dataset has 2000 observations and we want 10 samples from it, observations at the following indeces will be returned: `0, 200, 400, 600, 800, 1000, 1200, 1400, 1600, 1800` "
   ]
  },
  {
   "cell_type": "markdown",
   "id": "39d5b306",
   "metadata": {},
   "source": [
    "In this chapter, you’ll apply sampling methods to a synthetic (fictional) employee attrition dataset from IBM, where “attrition” in this context means leaving the company."
   ]
  },
  {
   "cell_type": "code",
   "execution_count": 120,
   "id": "39d68fab",
   "metadata": {},
   "outputs": [],
   "source": [
    "attrition_population = pd.read_feather('https://assets.datacamp.com/production/repositories/5975/datasets/3ca1b1a6e25d960f872dcee7cde666d57680bae0/attrition.feather')"
   ]
  },
  {
   "cell_type": "code",
   "execution_count": 125,
   "id": "01a7cc22",
   "metadata": {},
   "outputs": [
    {
     "data": {
      "text/html": [
       "<div>\n",
       "<style scoped>\n",
       "    .dataframe tbody tr th:only-of-type {\n",
       "        vertical-align: middle;\n",
       "    }\n",
       "\n",
       "    .dataframe tbody tr th {\n",
       "        vertical-align: top;\n",
       "    }\n",
       "\n",
       "    .dataframe thead th {\n",
       "        text-align: right;\n",
       "    }\n",
       "</style>\n",
       "<table border=\"1\" class=\"dataframe\">\n",
       "  <thead>\n",
       "    <tr style=\"text-align: right;\">\n",
       "      <th></th>\n",
       "      <th>Age</th>\n",
       "      <th>Attrition</th>\n",
       "      <th>BusinessTravel</th>\n",
       "      <th>DailyRate</th>\n",
       "      <th>Department</th>\n",
       "      <th>DistanceFromHome</th>\n",
       "      <th>Education</th>\n",
       "      <th>EducationField</th>\n",
       "      <th>EnvironmentSatisfaction</th>\n",
       "      <th>Gender</th>\n",
       "      <th>...</th>\n",
       "      <th>PerformanceRating</th>\n",
       "      <th>RelationshipSatisfaction</th>\n",
       "      <th>StockOptionLevel</th>\n",
       "      <th>TotalWorkingYears</th>\n",
       "      <th>TrainingTimesLastYear</th>\n",
       "      <th>WorkLifeBalance</th>\n",
       "      <th>YearsAtCompany</th>\n",
       "      <th>YearsInCurrentRole</th>\n",
       "      <th>YearsSinceLastPromotion</th>\n",
       "      <th>YearsWithCurrManager</th>\n",
       "    </tr>\n",
       "  </thead>\n",
       "  <tbody>\n",
       "    <tr>\n",
       "      <th>0</th>\n",
       "      <td>21</td>\n",
       "      <td>0.0</td>\n",
       "      <td>Travel_Rarely</td>\n",
       "      <td>391</td>\n",
       "      <td>Research_Development</td>\n",
       "      <td>15</td>\n",
       "      <td>College</td>\n",
       "      <td>Life_Sciences</td>\n",
       "      <td>High</td>\n",
       "      <td>Male</td>\n",
       "      <td>...</td>\n",
       "      <td>Excellent</td>\n",
       "      <td>Very_High</td>\n",
       "      <td>0</td>\n",
       "      <td>0</td>\n",
       "      <td>6</td>\n",
       "      <td>Better</td>\n",
       "      <td>0</td>\n",
       "      <td>0</td>\n",
       "      <td>0</td>\n",
       "      <td>0</td>\n",
       "    </tr>\n",
       "    <tr>\n",
       "      <th>1</th>\n",
       "      <td>19</td>\n",
       "      <td>1.0</td>\n",
       "      <td>Travel_Rarely</td>\n",
       "      <td>528</td>\n",
       "      <td>Sales</td>\n",
       "      <td>22</td>\n",
       "      <td>Below_College</td>\n",
       "      <td>Marketing</td>\n",
       "      <td>Very_High</td>\n",
       "      <td>Male</td>\n",
       "      <td>...</td>\n",
       "      <td>Excellent</td>\n",
       "      <td>Very_High</td>\n",
       "      <td>0</td>\n",
       "      <td>0</td>\n",
       "      <td>2</td>\n",
       "      <td>Good</td>\n",
       "      <td>0</td>\n",
       "      <td>0</td>\n",
       "      <td>0</td>\n",
       "      <td>0</td>\n",
       "    </tr>\n",
       "  </tbody>\n",
       "</table>\n",
       "<p>2 rows × 31 columns</p>\n",
       "</div>"
      ],
      "text/plain": [
       "   Age  Attrition BusinessTravel  DailyRate            Department  \\\n",
       "0   21        0.0  Travel_Rarely        391  Research_Development   \n",
       "1   19        1.0  Travel_Rarely        528                 Sales   \n",
       "\n",
       "   DistanceFromHome      Education EducationField EnvironmentSatisfaction  \\\n",
       "0                15        College  Life_Sciences                    High   \n",
       "1                22  Below_College      Marketing               Very_High   \n",
       "\n",
       "  Gender  ...  PerformanceRating RelationshipSatisfaction  StockOptionLevel  \\\n",
       "0   Male  ...          Excellent                Very_High                 0   \n",
       "1   Male  ...          Excellent                Very_High                 0   \n",
       "\n",
       "  TotalWorkingYears TrainingTimesLastYear WorkLifeBalance  YearsAtCompany  \\\n",
       "0                 0                     6          Better               0   \n",
       "1                 0                     2            Good               0   \n",
       "\n",
       "   YearsInCurrentRole  YearsSinceLastPromotion YearsWithCurrManager  \n",
       "0                   0                        0                    0  \n",
       "1                   0                        0                    0  \n",
       "\n",
       "[2 rows x 31 columns]"
      ]
     },
     "execution_count": 125,
     "metadata": {},
     "output_type": "execute_result"
    }
   ],
   "source": [
    "attrition_population.head(2)"
   ]
  },
  {
   "cell_type": "code",
   "execution_count": 121,
   "id": "2be42473",
   "metadata": {},
   "outputs": [],
   "source": [
    "# obtain 70 samples from the attrition_population data systematically\n",
    "sample_size = 70\n",
    "interval = attrition_population.shape[0] // 70"
   ]
  },
  {
   "cell_type": "code",
   "execution_count": 122,
   "id": "c969fc6b",
   "metadata": {},
   "outputs": [],
   "source": [
    "attrition_sample = attrition_population.iloc[::interval]"
   ]
  },
  {
   "cell_type": "code",
   "execution_count": 124,
   "id": "4567fb3e",
   "metadata": {},
   "outputs": [
    {
     "data": {
      "text/plain": [
       "(70, 31)"
      ]
     },
     "execution_count": 124,
     "metadata": {},
     "output_type": "execute_result"
    }
   ],
   "source": [
    "attrition_sample.shape"
   ]
  },
  {
   "cell_type": "markdown",
   "id": "43ee79b7",
   "metadata": {},
   "source": [
    "<p style='color: red';>Limitation of systematic sampling</p> if the data is sorted or there is already a pattern in the population dataset, then it can be concluded that systematic sampled data is not a representative of the population.\n",
    "\n",
    "<p style='color: green';>Solution of systematic sampling</p> You can shuffle the ordered population data before sampling it systematically. Obtaining samples from the shuffled population is like performing simple random sampling."
   ]
  },
  {
   "cell_type": "code",
   "execution_count": 131,
   "id": "4cde62d6",
   "metadata": {},
   "outputs": [
    {
     "data": {
      "image/png": "[encoded data removed]",
      "text/plain": [
       "<Figure size 432x288 with 1 Axes>"
      ]
     },
     "metadata": {
      "needs_background": "light"
     },
     "output_type": "display_data"
    }
   ],
   "source": [
    "# create a scatter plot of the index and YearsAtCompany of the attrition population data\n",
    "# check for pattern through the visualization\n",
    "\n",
    "plt.scatter(attrition_population.index, attrition_population.YearsAtCompany, alpha=0.5)\n",
    "plt.show()"
   ]
  },
  {
   "cell_type": "code",
   "execution_count": 132,
   "id": "f906aee7",
   "metadata": {},
   "outputs": [
    {
     "data": {
      "text/html": [
       "<div>\n",
       "<style scoped>\n",
       "    .dataframe tbody tr th:only-of-type {\n",
       "        vertical-align: middle;\n",
       "    }\n",
       "\n",
       "    .dataframe tbody tr th {\n",
       "        vertical-align: top;\n",
       "    }\n",
       "\n",
       "    .dataframe thead th {\n",
       "        text-align: right;\n",
       "    }\n",
       "</style>\n",
       "<table border=\"1\" class=\"dataframe\">\n",
       "  <thead>\n",
       "    <tr style=\"text-align: right;\">\n",
       "      <th></th>\n",
       "      <th>Age</th>\n",
       "      <th>Attrition</th>\n",
       "      <th>BusinessTravel</th>\n",
       "      <th>DailyRate</th>\n",
       "      <th>Department</th>\n",
       "      <th>DistanceFromHome</th>\n",
       "      <th>Education</th>\n",
       "      <th>EducationField</th>\n",
       "      <th>EnvironmentSatisfaction</th>\n",
       "      <th>Gender</th>\n",
       "      <th>...</th>\n",
       "      <th>PerformanceRating</th>\n",
       "      <th>RelationshipSatisfaction</th>\n",
       "      <th>StockOptionLevel</th>\n",
       "      <th>TotalWorkingYears</th>\n",
       "      <th>TrainingTimesLastYear</th>\n",
       "      <th>WorkLifeBalance</th>\n",
       "      <th>YearsAtCompany</th>\n",
       "      <th>YearsInCurrentRole</th>\n",
       "      <th>YearsSinceLastPromotion</th>\n",
       "      <th>YearsWithCurrManager</th>\n",
       "    </tr>\n",
       "  </thead>\n",
       "  <tbody>\n",
       "    <tr>\n",
       "      <th>44</th>\n",
       "      <td>21</td>\n",
       "      <td>1.0</td>\n",
       "      <td>Travel_Rarely</td>\n",
       "      <td>1427</td>\n",
       "      <td>Research_Development</td>\n",
       "      <td>18</td>\n",
       "      <td>Below_College</td>\n",
       "      <td>Other</td>\n",
       "      <td>Very_High</td>\n",
       "      <td>Female</td>\n",
       "      <td>...</td>\n",
       "      <td>Excellent</td>\n",
       "      <td>Low</td>\n",
       "      <td>0</td>\n",
       "      <td>1</td>\n",
       "      <td>3</td>\n",
       "      <td>Good</td>\n",
       "      <td>1</td>\n",
       "      <td>0</td>\n",
       "      <td>0</td>\n",
       "      <td>0</td>\n",
       "    </tr>\n",
       "    <tr>\n",
       "      <th>97</th>\n",
       "      <td>38</td>\n",
       "      <td>0.0</td>\n",
       "      <td>Travel_Rarely</td>\n",
       "      <td>1380</td>\n",
       "      <td>Research_Development</td>\n",
       "      <td>9</td>\n",
       "      <td>College</td>\n",
       "      <td>Life_Sciences</td>\n",
       "      <td>High</td>\n",
       "      <td>Female</td>\n",
       "      <td>...</td>\n",
       "      <td>Excellent</td>\n",
       "      <td>High</td>\n",
       "      <td>0</td>\n",
       "      <td>2</td>\n",
       "      <td>3</td>\n",
       "      <td>Better</td>\n",
       "      <td>2</td>\n",
       "      <td>2</td>\n",
       "      <td>2</td>\n",
       "      <td>1</td>\n",
       "    </tr>\n",
       "    <tr>\n",
       "      <th>1000</th>\n",
       "      <td>40</td>\n",
       "      <td>0.0</td>\n",
       "      <td>Travel_Rarely</td>\n",
       "      <td>1194</td>\n",
       "      <td>Research_Development</td>\n",
       "      <td>1</td>\n",
       "      <td>Bachelor</td>\n",
       "      <td>Life_Sciences</td>\n",
       "      <td>High</td>\n",
       "      <td>Female</td>\n",
       "      <td>...</td>\n",
       "      <td>Excellent</td>\n",
       "      <td>Very_High</td>\n",
       "      <td>1</td>\n",
       "      <td>12</td>\n",
       "      <td>3</td>\n",
       "      <td>Better</td>\n",
       "      <td>5</td>\n",
       "      <td>3</td>\n",
       "      <td>0</td>\n",
       "      <td>3</td>\n",
       "    </tr>\n",
       "    <tr>\n",
       "      <th>1243</th>\n",
       "      <td>50</td>\n",
       "      <td>0.0</td>\n",
       "      <td>Travel_Rarely</td>\n",
       "      <td>1207</td>\n",
       "      <td>Research_Development</td>\n",
       "      <td>28</td>\n",
       "      <td>Below_College</td>\n",
       "      <td>Medical</td>\n",
       "      <td>Very_High</td>\n",
       "      <td>Male</td>\n",
       "      <td>...</td>\n",
       "      <td>Excellent</td>\n",
       "      <td>High</td>\n",
       "      <td>3</td>\n",
       "      <td>20</td>\n",
       "      <td>3</td>\n",
       "      <td>Better</td>\n",
       "      <td>20</td>\n",
       "      <td>8</td>\n",
       "      <td>3</td>\n",
       "      <td>8</td>\n",
       "    </tr>\n",
       "    <tr>\n",
       "      <th>1230</th>\n",
       "      <td>46</td>\n",
       "      <td>0.0</td>\n",
       "      <td>Travel_Rarely</td>\n",
       "      <td>717</td>\n",
       "      <td>Research_Development</td>\n",
       "      <td>13</td>\n",
       "      <td>Master</td>\n",
       "      <td>Life_Sciences</td>\n",
       "      <td>High</td>\n",
       "      <td>Male</td>\n",
       "      <td>...</td>\n",
       "      <td>Excellent</td>\n",
       "      <td>Very_High</td>\n",
       "      <td>0</td>\n",
       "      <td>19</td>\n",
       "      <td>3</td>\n",
       "      <td>Better</td>\n",
       "      <td>10</td>\n",
       "      <td>7</td>\n",
       "      <td>0</td>\n",
       "      <td>9</td>\n",
       "    </tr>\n",
       "  </tbody>\n",
       "</table>\n",
       "<p>5 rows × 31 columns</p>\n",
       "</div>"
      ],
      "text/plain": [
       "      Age  Attrition BusinessTravel  DailyRate            Department  \\\n",
       "44     21        1.0  Travel_Rarely       1427  Research_Development   \n",
       "97     38        0.0  Travel_Rarely       1380  Research_Development   \n",
       "1000   40        0.0  Travel_Rarely       1194  Research_Development   \n",
       "1243   50        0.0  Travel_Rarely       1207  Research_Development   \n",
       "1230   46        0.0  Travel_Rarely        717  Research_Development   \n",
       "\n",
       "      DistanceFromHome      Education EducationField EnvironmentSatisfaction  \\\n",
       "44                  18  Below_College          Other               Very_High   \n",
       "97                   9        College  Life_Sciences                    High   \n",
       "1000                 1       Bachelor  Life_Sciences                    High   \n",
       "1243                28  Below_College        Medical               Very_High   \n",
       "1230                13         Master  Life_Sciences                    High   \n",
       "\n",
       "      Gender  ...  PerformanceRating RelationshipSatisfaction  \\\n",
       "44    Female  ...          Excellent                      Low   \n",
       "97    Female  ...          Excellent                     High   \n",
       "1000  Female  ...          Excellent                Very_High   \n",
       "1243    Male  ...          Excellent                     High   \n",
       "1230    Male  ...          Excellent                Very_High   \n",
       "\n",
       "      StockOptionLevel TotalWorkingYears TrainingTimesLastYear  \\\n",
       "44                   0                 1                     3   \n",
       "97                   0                 2                     3   \n",
       "1000                 1                12                     3   \n",
       "1243                 3                20                     3   \n",
       "1230                 0                19                     3   \n",
       "\n",
       "     WorkLifeBalance  YearsAtCompany  YearsInCurrentRole  \\\n",
       "44              Good               1                   0   \n",
       "97            Better               2                   2   \n",
       "1000          Better               5                   3   \n",
       "1243          Better              20                   8   \n",
       "1230          Better              10                   7   \n",
       "\n",
       "      YearsSinceLastPromotion YearsWithCurrManager  \n",
       "44                          0                    0  \n",
       "97                          2                    1  \n",
       "1000                        0                    3  \n",
       "1243                        3                    8  \n",
       "1230                        0                    9  \n",
       "\n",
       "[5 rows x 31 columns]"
      ]
     },
     "execution_count": 132,
     "metadata": {},
     "output_type": "execute_result"
    }
   ],
   "source": [
    "# randomly shuffle the attrition population data: return 100% observation from the data\n",
    "shuffled_attrition_pop = attrition_population.sample(frac=1)\n",
    "shuffled_attrition_pop.head()"
   ]
  },
  {
   "cell_type": "code",
   "execution_count": 133,
   "id": "454b8521",
   "metadata": {},
   "outputs": [],
   "source": [
    "# reset the index\n",
    "shuffled_attrition_pop = shuffled_attrition_pop.reset_index(drop=True)"
   ]
  },
  {
   "cell_type": "code",
   "execution_count": 134,
   "id": "a9563a10",
   "metadata": {},
   "outputs": [
    {
     "data": {
      "image/png": "[encoded data removed]",
      "text/plain": [
       "<Figure size 432x288 with 1 Axes>"
      ]
     },
     "metadata": {
      "needs_background": "light"
     },
     "output_type": "display_data"
    }
   ],
   "source": [
    "plt.scatter(shuffled_attrition_pop.index, shuffled_attrition_pop.YearsAtCompany, alpha=0.5)\n",
    "plt.show()"
   ]
  },
  {
   "cell_type": "code",
   "execution_count": null,
   "id": "e99b5420",
   "metadata": {},
   "outputs": [],
   "source": []
  },
  {
   "cell_type": "markdown",
   "id": "aa8c4412",
   "metadata": {},
   "source": [
    "### Stratified Sampling\n",
    "\n",
    "This type of sampling method is usedful if the proportion of a subgroup of a data set is of priority.\n",
    "\n",
    "* Demographics matching by race to ensure a census is conducted properly.\n",
    "* Blood types to ensure a vaccine works for different subgroups\n",
    "* Income groups to understand the impact of tax rate changes"
   ]
  },
  {
   "cell_type": "markdown",
   "id": "dd72ebe7",
   "metadata": {},
   "source": [
    "**Proportional stratified sampling** is the sampling of each subgroup which is sampled from different groups within the population. It is equivalent to performing a simple random sample on each subgroup."
   ]
  },
  {
   "cell_type": "code",
   "execution_count": 136,
   "id": "21bbdfee",
   "metadata": {},
   "outputs": [
    {
     "data": {
      "text/plain": [
       "Bachelor         0.389116\n",
       "Master           0.270748\n",
       "College          0.191837\n",
       "Below_College    0.115646\n",
       "Doctor           0.032653\n",
       "Name: Education, dtype: float64"
      ]
     },
     "execution_count": 136,
     "metadata": {},
     "output_type": "execute_result"
    }
   ],
   "source": [
    "# considering the proportion of the level of education in attrition_population dataset\n",
    "attrition_population['Education'].value_counts(normalize=True)"
   ]
  },
  {
   "cell_type": "code",
   "execution_count": 140,
   "id": "2c00e928",
   "metadata": {},
   "outputs": [
    {
     "data": {
      "text/plain": [
       "588.0"
      ]
     },
     "execution_count": 140,
     "metadata": {},
     "output_type": "execute_result"
    }
   ],
   "source": [
    "sum(attrition_population['Education'].value_counts() * 0.4)"
   ]
  },
  {
   "cell_type": "markdown",
   "id": "a0323c40",
   "metadata": {},
   "source": [
    "As can be seen, the proportion of Bachelors (highest) is three times that of Doctor (lowest)\n",
    "\n",
    "* Sample attrition_population based on `40%` of observations from the each level of education in the attition dataset."
   ]
  },
  {
   "cell_type": "code",
   "execution_count": 157,
   "id": "60d8d491",
   "metadata": {},
   "outputs": [],
   "source": [
    "attrition_stratified_prop_samp = attrition_population.groupby('Education').sample(frac=0.4, random_state=2022) "
   ]
  },
  {
   "cell_type": "code",
   "execution_count": 158,
   "id": "a6e16753",
   "metadata": {},
   "outputs": [
    {
     "data": {
      "text/plain": [
       "(588, 31)"
      ]
     },
     "execution_count": 158,
     "metadata": {},
     "output_type": "execute_result"
    }
   ],
   "source": [
    "attrition_stratified_prop_samp.shape"
   ]
  },
  {
   "cell_type": "code",
   "execution_count": 159,
   "id": "2a75e832",
   "metadata": {},
   "outputs": [
    {
     "data": {
      "text/plain": [
       "Bachelor         0.389456\n",
       "Master           0.270408\n",
       "College          0.192177\n",
       "Below_College    0.115646\n",
       "Doctor           0.032313\n",
       "Name: Education, dtype: float64"
      ]
     },
     "execution_count": 159,
     "metadata": {},
     "output_type": "execute_result"
    }
   ],
   "source": [
    "# calcylating the proportion of the education level in the stratified attrition data\n",
    "attrition_stratified_prop_samp['Education'].value_counts(normalize=True)"
   ]
  },
  {
   "cell_type": "markdown",
   "id": "05f1a1ee",
   "metadata": {},
   "source": [
    "the proportiin of the level of eduction in the attritions population and stratified attrition sample is close but not identical"
   ]
  },
  {
   "cell_type": "markdown",
   "id": "9728ad1c",
   "metadata": {},
   "source": [
    "**Equal Count Stratified Sampling.** If one subgroup is larger than another subgroup in the population, but you don’t want to reflect that difference in your analysis, then you can use equal counts stratified sampling to generate samples where each subgroup has the same amount of data. For example, if you are analyzing blood types, O is the most common blood type worldwide, but you may wish to have equal amounts of O, A, B, and AB in your sample."
   ]
  },
  {
   "cell_type": "code",
   "execution_count": 160,
   "id": "038315d5",
   "metadata": {},
   "outputs": [],
   "source": [
    "# obtain sample from the attrition population data based on 30 observations from each eduction level\n",
    "attrition_stratified_equal_samp = attrition_population.groupby('Education').sample(n=30, random_state=2022)"
   ]
  },
  {
   "cell_type": "code",
   "execution_count": 162,
   "id": "6a5fb11d",
   "metadata": {},
   "outputs": [
    {
     "data": {
      "text/plain": [
       "(150, 31)"
      ]
     },
     "execution_count": 162,
     "metadata": {},
     "output_type": "execute_result"
    }
   ],
   "source": [
    "attrition_stratified_equal_samp.shape"
   ]
  },
  {
   "cell_type": "code",
   "execution_count": 163,
   "id": "1130f66b",
   "metadata": {},
   "outputs": [
    {
     "data": {
      "text/plain": [
       "Below_College    0.2\n",
       "College          0.2\n",
       "Bachelor         0.2\n",
       "Master           0.2\n",
       "Doctor           0.2\n",
       "Name: Education, dtype: float64"
      ]
     },
     "execution_count": 163,
     "metadata": {},
     "output_type": "execute_result"
    }
   ],
   "source": [
    "# checking the proportion, we will find out that they are of same proportion because they are of same size\n",
    "attrition_stratified_equal_samp['Education'].value_counts(normalize=True)"
   ]
  },
  {
   "cell_type": "code",
   "execution_count": null,
   "id": "72537569",
   "metadata": {},
   "outputs": [],
   "source": []
  },
  {
   "cell_type": "markdown",
   "id": "5ceca1ad",
   "metadata": {},
   "source": [
    "### Weighted Sample\n",
    "\n",
    "This is the probability of selecting observations from dataset based on subgroup level from the population. The probability of picking any given observation is proportional to the weight value for that observation."
   ]
  },
  {
   "cell_type": "code",
   "execution_count": 165,
   "id": "dad4ede2",
   "metadata": {},
   "outputs": [],
   "source": [
    "# sample 400 observations from attrition_population weighted by YearsAtCompany\n",
    "attrition_weighted_samp = attrition_population.sample(n=400, weights='YearsAtCompany', random_state=2022)"
   ]
  },
  {
   "cell_type": "code",
   "execution_count": 169,
   "id": "2c970337",
   "metadata": {},
   "outputs": [
    {
     "data": {
      "image/png": "[encoded data removed]",
      "text/plain": [
       "<Figure size 432x288 with 1 Axes>"
      ]
     },
     "metadata": {
      "needs_background": "light"
     },
     "output_type": "display_data"
    }
   ],
   "source": [
    "# what is the distrivution of the yearsAtCompany of the weighted sample?\n",
    "plt.hist(attrition_weighted_samp['YearsAtCompany'], bins=np.arange(0, 40+1, 1))\n",
    "plt.show()"
   ]
  },
  {
   "cell_type": "code",
   "execution_count": 170,
   "id": "2ed7f954",
   "metadata": {},
   "outputs": [
    {
     "data": {
      "image/png": "[encoded data removed]",
      "text/plain": [
       "<Figure size 432x288 with 1 Axes>"
      ]
     },
     "metadata": {
      "needs_background": "light"
     },
     "output_type": "display_data"
    }
   ],
   "source": [
    "# comparing the result above to that of the population data\n",
    "plt.hist(attrition_population['YearsAtCompany'], bins=np.arange(0, 40+1, 1))\n",
    "plt.show()"
   ]
  },
  {
   "cell_type": "markdown",
   "id": "9ae5a72a",
   "metadata": {},
   "source": [
    "As can be seen from above, the distribution blot of the population data and weighted sample data is not close."
   ]
  },
  {
   "cell_type": "code",
   "execution_count": 178,
   "id": "a9e75f66",
   "metadata": {},
   "outputs": [
    {
     "name": "stdout",
     "output_type": "stream",
     "text": [
      "Population and weighted sample mean of the YearsAtCompany column is: (7,  11)\n"
     ]
    }
   ],
   "source": [
    "# calculating the mean to compare how the weighted sample generalize with the population data\n",
    "print(f\"Population and weighted sample mean of the YearsAtCompany column is: ({round(attrition_population['YearsAtCompany'].mean())},  {round(attrition_weighted_samp['YearsAtCompany'].mean())})\")"
   ]
  },
  {
   "cell_type": "markdown",
   "id": "589d1550",
   "metadata": {},
   "source": [
    "Both shape of the distribution and the mean differences is a proof that the weighted sampled data is bias."
   ]
  },
  {
   "cell_type": "code",
   "execution_count": null,
   "id": "7eae32e1",
   "metadata": {},
   "outputs": [],
   "source": []
  },
  {
   "cell_type": "markdown",
   "id": "047c537e",
   "metadata": {},
   "source": [
    "### Cluster Sampling\n",
    "\n",
    "This is the sampling of the sampled subgroup in the population."
   ]
  },
  {
   "cell_type": "code",
   "execution_count": 183,
   "id": "25b5bacf",
   "metadata": {},
   "outputs": [
    {
     "data": {
      "text/plain": [
       "['Research_Scientist', 'Sales_Representative', 'Laboratory_Technician', 'Human_Resources', 'Sales_Executive', 'Manufacturing_Director', 'Healthcare_Representative', 'Research_Director', 'Manager']\n",
       "Categories (9, object): ['Research_Scientist', 'Sales_Representative', 'Laboratory_Technician', 'Human_Resources', ..., 'Manufacturing_Director', 'Healthcare_Representative', 'Research_Director', 'Manager']"
      ]
     },
     "execution_count": 183,
     "metadata": {},
     "output_type": "execute_result"
    }
   ],
   "source": [
    "# all unique job role in the JobRole column of attrition_population\n",
    "all_job_roles = attrition_population['JobRole'].unique()\n",
    "all_job_roles"
   ]
  },
  {
   "cell_type": "code",
   "execution_count": 191,
   "id": "5f54c6be",
   "metadata": {},
   "outputs": [
    {
     "data": {
      "text/plain": [
       "['Manager',\n",
       " 'Laboratory_Technician',\n",
       " 'Research_Director',\n",
       " 'Sales_Representative']"
      ]
     },
     "execution_count": 191,
     "metadata": {},
     "output_type": "execute_result"
    }
   ],
   "source": [
    "import random\n",
    "# Randomly sample observations of 4 job roles from all_job_roles\n",
    "selected_job_roles = random.sample(list(all_job_roles), k=4)\n",
    "selected_job_roles"
   ]
  },
  {
   "cell_type": "code",
   "execution_count": 202,
   "id": "f96e96e4",
   "metadata": {},
   "outputs": [
    {
     "data": {
      "text/plain": [
       "0    False\n",
       "1     True\n",
       "2     True\n",
       "3     True\n",
       "4     True\n",
       "Name: JobRole, dtype: bool"
      ]
     },
     "execution_count": 202,
     "metadata": {},
     "output_type": "execute_result"
    }
   ],
   "source": [
    "# subset the attrition_population to obtain data based on the selected job roles\n",
    "condition_jobrole = attrition_population['JobRole'].isin(selected_job_roles)\n",
    "condition_jobrole.head()"
   ]
  },
  {
   "cell_type": "code",
   "execution_count": 207,
   "id": "f05a5a12",
   "metadata": {},
   "outputs": [
    {
     "data": {
      "text/html": [
       "<div>\n",
       "<style scoped>\n",
       "    .dataframe tbody tr th:only-of-type {\n",
       "        vertical-align: middle;\n",
       "    }\n",
       "\n",
       "    .dataframe tbody tr th {\n",
       "        vertical-align: top;\n",
       "    }\n",
       "\n",
       "    .dataframe thead th {\n",
       "        text-align: right;\n",
       "    }\n",
       "</style>\n",
       "<table border=\"1\" class=\"dataframe\">\n",
       "  <thead>\n",
       "    <tr style=\"text-align: right;\">\n",
       "      <th></th>\n",
       "      <th>Age</th>\n",
       "      <th>Attrition</th>\n",
       "      <th>BusinessTravel</th>\n",
       "      <th>DailyRate</th>\n",
       "      <th>Department</th>\n",
       "      <th>DistanceFromHome</th>\n",
       "      <th>Education</th>\n",
       "      <th>EducationField</th>\n",
       "      <th>EnvironmentSatisfaction</th>\n",
       "      <th>Gender</th>\n",
       "      <th>...</th>\n",
       "      <th>PerformanceRating</th>\n",
       "      <th>RelationshipSatisfaction</th>\n",
       "      <th>StockOptionLevel</th>\n",
       "      <th>TotalWorkingYears</th>\n",
       "      <th>TrainingTimesLastYear</th>\n",
       "      <th>WorkLifeBalance</th>\n",
       "      <th>YearsAtCompany</th>\n",
       "      <th>YearsInCurrentRole</th>\n",
       "      <th>YearsSinceLastPromotion</th>\n",
       "      <th>YearsWithCurrManager</th>\n",
       "    </tr>\n",
       "  </thead>\n",
       "  <tbody>\n",
       "    <tr>\n",
       "      <th>1</th>\n",
       "      <td>19</td>\n",
       "      <td>1.0</td>\n",
       "      <td>Travel_Rarely</td>\n",
       "      <td>528</td>\n",
       "      <td>Sales</td>\n",
       "      <td>22</td>\n",
       "      <td>Below_College</td>\n",
       "      <td>Marketing</td>\n",
       "      <td>Very_High</td>\n",
       "      <td>Male</td>\n",
       "      <td>...</td>\n",
       "      <td>Excellent</td>\n",
       "      <td>Very_High</td>\n",
       "      <td>0</td>\n",
       "      <td>0</td>\n",
       "      <td>2</td>\n",
       "      <td>Good</td>\n",
       "      <td>0</td>\n",
       "      <td>0</td>\n",
       "      <td>0</td>\n",
       "      <td>0</td>\n",
       "    </tr>\n",
       "    <tr>\n",
       "      <th>2</th>\n",
       "      <td>18</td>\n",
       "      <td>1.0</td>\n",
       "      <td>Travel_Rarely</td>\n",
       "      <td>230</td>\n",
       "      <td>Research_Development</td>\n",
       "      <td>3</td>\n",
       "      <td>Bachelor</td>\n",
       "      <td>Life_Sciences</td>\n",
       "      <td>High</td>\n",
       "      <td>Male</td>\n",
       "      <td>...</td>\n",
       "      <td>Excellent</td>\n",
       "      <td>High</td>\n",
       "      <td>0</td>\n",
       "      <td>0</td>\n",
       "      <td>2</td>\n",
       "      <td>Better</td>\n",
       "      <td>0</td>\n",
       "      <td>0</td>\n",
       "      <td>0</td>\n",
       "      <td>0</td>\n",
       "    </tr>\n",
       "    <tr>\n",
       "      <th>3</th>\n",
       "      <td>18</td>\n",
       "      <td>0.0</td>\n",
       "      <td>Travel_Rarely</td>\n",
       "      <td>812</td>\n",
       "      <td>Sales</td>\n",
       "      <td>10</td>\n",
       "      <td>Bachelor</td>\n",
       "      <td>Medical</td>\n",
       "      <td>Very_High</td>\n",
       "      <td>Female</td>\n",
       "      <td>...</td>\n",
       "      <td>Excellent</td>\n",
       "      <td>Low</td>\n",
       "      <td>0</td>\n",
       "      <td>0</td>\n",
       "      <td>2</td>\n",
       "      <td>Better</td>\n",
       "      <td>0</td>\n",
       "      <td>0</td>\n",
       "      <td>0</td>\n",
       "      <td>0</td>\n",
       "    </tr>\n",
       "    <tr>\n",
       "      <th>4</th>\n",
       "      <td>18</td>\n",
       "      <td>1.0</td>\n",
       "      <td>Travel_Frequently</td>\n",
       "      <td>1306</td>\n",
       "      <td>Sales</td>\n",
       "      <td>5</td>\n",
       "      <td>Bachelor</td>\n",
       "      <td>Marketing</td>\n",
       "      <td>Medium</td>\n",
       "      <td>Male</td>\n",
       "      <td>...</td>\n",
       "      <td>Excellent</td>\n",
       "      <td>Very_High</td>\n",
       "      <td>0</td>\n",
       "      <td>0</td>\n",
       "      <td>3</td>\n",
       "      <td>Better</td>\n",
       "      <td>0</td>\n",
       "      <td>0</td>\n",
       "      <td>0</td>\n",
       "      <td>0</td>\n",
       "    </tr>\n",
       "    <tr>\n",
       "      <th>7</th>\n",
       "      <td>18</td>\n",
       "      <td>1.0</td>\n",
       "      <td>Non-Travel</td>\n",
       "      <td>247</td>\n",
       "      <td>Research_Development</td>\n",
       "      <td>8</td>\n",
       "      <td>Below_College</td>\n",
       "      <td>Medical</td>\n",
       "      <td>High</td>\n",
       "      <td>Male</td>\n",
       "      <td>...</td>\n",
       "      <td>Excellent</td>\n",
       "      <td>Very_High</td>\n",
       "      <td>0</td>\n",
       "      <td>0</td>\n",
       "      <td>0</td>\n",
       "      <td>Better</td>\n",
       "      <td>0</td>\n",
       "      <td>0</td>\n",
       "      <td>0</td>\n",
       "      <td>0</td>\n",
       "    </tr>\n",
       "    <tr>\n",
       "      <th>8</th>\n",
       "      <td>18</td>\n",
       "      <td>0.0</td>\n",
       "      <td>Non-Travel</td>\n",
       "      <td>1124</td>\n",
       "      <td>Research_Development</td>\n",
       "      <td>1</td>\n",
       "      <td>Bachelor</td>\n",
       "      <td>Life_Sciences</td>\n",
       "      <td>Very_High</td>\n",
       "      <td>Female</td>\n",
       "      <td>...</td>\n",
       "      <td>Excellent</td>\n",
       "      <td>High</td>\n",
       "      <td>0</td>\n",
       "      <td>0</td>\n",
       "      <td>5</td>\n",
       "      <td>Best</td>\n",
       "      <td>0</td>\n",
       "      <td>0</td>\n",
       "      <td>0</td>\n",
       "      <td>0</td>\n",
       "    </tr>\n",
       "    <tr>\n",
       "      <th>9</th>\n",
       "      <td>18</td>\n",
       "      <td>1.0</td>\n",
       "      <td>Travel_Frequently</td>\n",
       "      <td>544</td>\n",
       "      <td>Sales</td>\n",
       "      <td>3</td>\n",
       "      <td>College</td>\n",
       "      <td>Medical</td>\n",
       "      <td>Medium</td>\n",
       "      <td>Female</td>\n",
       "      <td>...</td>\n",
       "      <td>Excellent</td>\n",
       "      <td>High</td>\n",
       "      <td>0</td>\n",
       "      <td>0</td>\n",
       "      <td>2</td>\n",
       "      <td>Best</td>\n",
       "      <td>0</td>\n",
       "      <td>0</td>\n",
       "      <td>0</td>\n",
       "      <td>0</td>\n",
       "    </tr>\n",
       "    <tr>\n",
       "      <th>11</th>\n",
       "      <td>30</td>\n",
       "      <td>0.0</td>\n",
       "      <td>Travel_Rarely</td>\n",
       "      <td>1358</td>\n",
       "      <td>Research_Development</td>\n",
       "      <td>24</td>\n",
       "      <td>Below_College</td>\n",
       "      <td>Life_Sciences</td>\n",
       "      <td>Very_High</td>\n",
       "      <td>Male</td>\n",
       "      <td>...</td>\n",
       "      <td>Outstanding</td>\n",
       "      <td>Medium</td>\n",
       "      <td>1</td>\n",
       "      <td>1</td>\n",
       "      <td>2</td>\n",
       "      <td>Better</td>\n",
       "      <td>1</td>\n",
       "      <td>0</td>\n",
       "      <td>0</td>\n",
       "      <td>0</td>\n",
       "    </tr>\n",
       "    <tr>\n",
       "      <th>12</th>\n",
       "      <td>22</td>\n",
       "      <td>0.0</td>\n",
       "      <td>Non-Travel</td>\n",
       "      <td>1123</td>\n",
       "      <td>Research_Development</td>\n",
       "      <td>16</td>\n",
       "      <td>College</td>\n",
       "      <td>Medical</td>\n",
       "      <td>Very_High</td>\n",
       "      <td>Male</td>\n",
       "      <td>...</td>\n",
       "      <td>Excellent</td>\n",
       "      <td>Medium</td>\n",
       "      <td>2</td>\n",
       "      <td>1</td>\n",
       "      <td>2</td>\n",
       "      <td>Good</td>\n",
       "      <td>1</td>\n",
       "      <td>0</td>\n",
       "      <td>0</td>\n",
       "      <td>0</td>\n",
       "    </tr>\n",
       "    <tr>\n",
       "      <th>13</th>\n",
       "      <td>35</td>\n",
       "      <td>0.0</td>\n",
       "      <td>Travel_Rarely</td>\n",
       "      <td>464</td>\n",
       "      <td>Research_Development</td>\n",
       "      <td>4</td>\n",
       "      <td>College</td>\n",
       "      <td>Other</td>\n",
       "      <td>High</td>\n",
       "      <td>Male</td>\n",
       "      <td>...</td>\n",
       "      <td>Excellent</td>\n",
       "      <td>High</td>\n",
       "      <td>1</td>\n",
       "      <td>1</td>\n",
       "      <td>3</td>\n",
       "      <td>Better</td>\n",
       "      <td>1</td>\n",
       "      <td>0</td>\n",
       "      <td>0</td>\n",
       "      <td>0</td>\n",
       "    </tr>\n",
       "  </tbody>\n",
       "</table>\n",
       "<p>10 rows × 31 columns</p>\n",
       "</div>"
      ],
      "text/plain": [
       "    Age  Attrition     BusinessTravel  DailyRate            Department  \\\n",
       "1    19        1.0      Travel_Rarely        528                 Sales   \n",
       "2    18        1.0      Travel_Rarely        230  Research_Development   \n",
       "3    18        0.0      Travel_Rarely        812                 Sales   \n",
       "4    18        1.0  Travel_Frequently       1306                 Sales   \n",
       "7    18        1.0         Non-Travel        247  Research_Development   \n",
       "8    18        0.0         Non-Travel       1124  Research_Development   \n",
       "9    18        1.0  Travel_Frequently        544                 Sales   \n",
       "11   30        0.0      Travel_Rarely       1358  Research_Development   \n",
       "12   22        0.0         Non-Travel       1123  Research_Development   \n",
       "13   35        0.0      Travel_Rarely        464  Research_Development   \n",
       "\n",
       "    DistanceFromHome      Education EducationField EnvironmentSatisfaction  \\\n",
       "1                 22  Below_College      Marketing               Very_High   \n",
       "2                  3       Bachelor  Life_Sciences                    High   \n",
       "3                 10       Bachelor        Medical               Very_High   \n",
       "4                  5       Bachelor      Marketing                  Medium   \n",
       "7                  8  Below_College        Medical                    High   \n",
       "8                  1       Bachelor  Life_Sciences               Very_High   \n",
       "9                  3        College        Medical                  Medium   \n",
       "11                24  Below_College  Life_Sciences               Very_High   \n",
       "12                16        College        Medical               Very_High   \n",
       "13                 4        College          Other                    High   \n",
       "\n",
       "    Gender  ...  PerformanceRating RelationshipSatisfaction  StockOptionLevel  \\\n",
       "1     Male  ...          Excellent                Very_High                 0   \n",
       "2     Male  ...          Excellent                     High                 0   \n",
       "3   Female  ...          Excellent                      Low                 0   \n",
       "4     Male  ...          Excellent                Very_High                 0   \n",
       "7     Male  ...          Excellent                Very_High                 0   \n",
       "8   Female  ...          Excellent                     High                 0   \n",
       "9   Female  ...          Excellent                     High                 0   \n",
       "11    Male  ...        Outstanding                   Medium                 1   \n",
       "12    Male  ...          Excellent                   Medium                 2   \n",
       "13    Male  ...          Excellent                     High                 1   \n",
       "\n",
       "   TotalWorkingYears TrainingTimesLastYear WorkLifeBalance  YearsAtCompany  \\\n",
       "1                  0                     2            Good               0   \n",
       "2                  0                     2          Better               0   \n",
       "3                  0                     2          Better               0   \n",
       "4                  0                     3          Better               0   \n",
       "7                  0                     0          Better               0   \n",
       "8                  0                     5            Best               0   \n",
       "9                  0                     2            Best               0   \n",
       "11                 1                     2          Better               1   \n",
       "12                 1                     2            Good               1   \n",
       "13                 1                     3          Better               1   \n",
       "\n",
       "    YearsInCurrentRole  YearsSinceLastPromotion YearsWithCurrManager  \n",
       "1                    0                        0                    0  \n",
       "2                    0                        0                    0  \n",
       "3                    0                        0                    0  \n",
       "4                    0                        0                    0  \n",
       "7                    0                        0                    0  \n",
       "8                    0                        0                    0  \n",
       "9                    0                        0                    0  \n",
       "11                   0                        0                    0  \n",
       "12                   0                        0                    0  \n",
       "13                   0                        0                    0  \n",
       "\n",
       "[10 rows x 31 columns]"
      ]
     },
     "execution_count": 207,
     "metadata": {},
     "output_type": "execute_result"
    }
   ],
   "source": [
    "attrition_filltered = attrition_population[condition_jobrole]\n",
    "attrition_filltered[:10]"
   ]
  },
  {
   "cell_type": "code",
   "execution_count": 211,
   "id": "f07d577e",
   "metadata": {},
   "outputs": [
    {
     "data": {
      "text/plain": [
       "Laboratory_Technician        259\n",
       "Manager                      102\n",
       "Sales_Representative          83\n",
       "Research_Director             80\n",
       "Healthcare_Representative      0\n",
       "Human_Resources                0\n",
       "Manufacturing_Director         0\n",
       "Research_Scientist             0\n",
       "Sales_Executive                0\n",
       "Name: JobRole, dtype: int64"
      ]
     },
     "execution_count": 211,
     "metadata": {},
     "output_type": "execute_result"
    }
   ],
   "source": [
    "attrition_filltered['JobRole'].value_counts()"
   ]
  },
  {
   "cell_type": "code",
   "execution_count": 212,
   "id": "575595bb",
   "metadata": {},
   "outputs": [
    {
     "name": "stderr",
     "output_type": "stream",
     "text": [
      "<ipython-input-212-0048b50c4528>:2: SettingWithCopyWarning: \n",
      "A value is trying to be set on a copy of a slice from a DataFrame.\n",
      "Try using .loc[row_indexer,col_indexer] = value instead\n",
      "\n",
      "See the caveats in the documentation: https://pandas.pydata.org/pandas-docs/stable/user_guide/indexing.html#returning-a-view-versus-a-copy\n",
      "  attrition_filltered['JobRole'] = attrition_filltered['JobRole'].cat.remove_unused_categories()\n"
     ]
    }
   ],
   "source": [
    "# remove every unused categories from the dataset.\n",
    "attrition_filltered['JobRole'] = attrition_filltered['JobRole'].cat.remove_unused_categories()"
   ]
  },
  {
   "cell_type": "code",
   "execution_count": 213,
   "id": "53e3eccb",
   "metadata": {},
   "outputs": [
    {
     "data": {
      "text/html": [
       "<div>\n",
       "<style scoped>\n",
       "    .dataframe tbody tr th:only-of-type {\n",
       "        vertical-align: middle;\n",
       "    }\n",
       "\n",
       "    .dataframe tbody tr th {\n",
       "        vertical-align: top;\n",
       "    }\n",
       "\n",
       "    .dataframe thead th {\n",
       "        text-align: right;\n",
       "    }\n",
       "</style>\n",
       "<table border=\"1\" class=\"dataframe\">\n",
       "  <thead>\n",
       "    <tr style=\"text-align: right;\">\n",
       "      <th></th>\n",
       "      <th>Age</th>\n",
       "      <th>Attrition</th>\n",
       "      <th>BusinessTravel</th>\n",
       "      <th>DailyRate</th>\n",
       "      <th>Department</th>\n",
       "      <th>DistanceFromHome</th>\n",
       "      <th>Education</th>\n",
       "      <th>EducationField</th>\n",
       "      <th>EnvironmentSatisfaction</th>\n",
       "      <th>Gender</th>\n",
       "      <th>...</th>\n",
       "      <th>PerformanceRating</th>\n",
       "      <th>RelationshipSatisfaction</th>\n",
       "      <th>StockOptionLevel</th>\n",
       "      <th>TotalWorkingYears</th>\n",
       "      <th>TrainingTimesLastYear</th>\n",
       "      <th>WorkLifeBalance</th>\n",
       "      <th>YearsAtCompany</th>\n",
       "      <th>YearsInCurrentRole</th>\n",
       "      <th>YearsSinceLastPromotion</th>\n",
       "      <th>YearsWithCurrManager</th>\n",
       "    </tr>\n",
       "  </thead>\n",
       "  <tbody>\n",
       "    <tr>\n",
       "      <th>1124</th>\n",
       "      <td>36</td>\n",
       "      <td>0.0</td>\n",
       "      <td>Travel_Rarely</td>\n",
       "      <td>1396</td>\n",
       "      <td>Research_Development</td>\n",
       "      <td>5</td>\n",
       "      <td>College</td>\n",
       "      <td>Life_Sciences</td>\n",
       "      <td>Very_High</td>\n",
       "      <td>Male</td>\n",
       "      <td>...</td>\n",
       "      <td>Excellent</td>\n",
       "      <td>Very_High</td>\n",
       "      <td>0</td>\n",
       "      <td>16</td>\n",
       "      <td>3</td>\n",
       "      <td>Best</td>\n",
       "      <td>13</td>\n",
       "      <td>11</td>\n",
       "      <td>3</td>\n",
       "      <td>7</td>\n",
       "    </tr>\n",
       "    <tr>\n",
       "      <th>576</th>\n",
       "      <td>45</td>\n",
       "      <td>0.0</td>\n",
       "      <td>Travel_Rarely</td>\n",
       "      <td>974</td>\n",
       "      <td>Research_Development</td>\n",
       "      <td>1</td>\n",
       "      <td>Master</td>\n",
       "      <td>Medical</td>\n",
       "      <td>Very_High</td>\n",
       "      <td>Female</td>\n",
       "      <td>...</td>\n",
       "      <td>Excellent</td>\n",
       "      <td>Very_High</td>\n",
       "      <td>2</td>\n",
       "      <td>8</td>\n",
       "      <td>2</td>\n",
       "      <td>Better</td>\n",
       "      <td>5</td>\n",
       "      <td>3</td>\n",
       "      <td>0</td>\n",
       "      <td>2</td>\n",
       "    </tr>\n",
       "    <tr>\n",
       "      <th>995</th>\n",
       "      <td>42</td>\n",
       "      <td>0.0</td>\n",
       "      <td>Travel_Frequently</td>\n",
       "      <td>748</td>\n",
       "      <td>Research_Development</td>\n",
       "      <td>9</td>\n",
       "      <td>College</td>\n",
       "      <td>Medical</td>\n",
       "      <td>Low</td>\n",
       "      <td>Female</td>\n",
       "      <td>...</td>\n",
       "      <td>Excellent</td>\n",
       "      <td>High</td>\n",
       "      <td>0</td>\n",
       "      <td>12</td>\n",
       "      <td>3</td>\n",
       "      <td>Better</td>\n",
       "      <td>12</td>\n",
       "      <td>9</td>\n",
       "      <td>5</td>\n",
       "      <td>8</td>\n",
       "    </tr>\n",
       "    <tr>\n",
       "      <th>1243</th>\n",
       "      <td>50</td>\n",
       "      <td>0.0</td>\n",
       "      <td>Travel_Rarely</td>\n",
       "      <td>1207</td>\n",
       "      <td>Research_Development</td>\n",
       "      <td>28</td>\n",
       "      <td>Below_College</td>\n",
       "      <td>Medical</td>\n",
       "      <td>Very_High</td>\n",
       "      <td>Male</td>\n",
       "      <td>...</td>\n",
       "      <td>Excellent</td>\n",
       "      <td>High</td>\n",
       "      <td>3</td>\n",
       "      <td>20</td>\n",
       "      <td>3</td>\n",
       "      <td>Better</td>\n",
       "      <td>20</td>\n",
       "      <td>8</td>\n",
       "      <td>3</td>\n",
       "      <td>8</td>\n",
       "    </tr>\n",
       "    <tr>\n",
       "      <th>869</th>\n",
       "      <td>45</td>\n",
       "      <td>0.0</td>\n",
       "      <td>Travel_Rarely</td>\n",
       "      <td>1015</td>\n",
       "      <td>Research_Development</td>\n",
       "      <td>5</td>\n",
       "      <td>Doctor</td>\n",
       "      <td>Medical</td>\n",
       "      <td>High</td>\n",
       "      <td>Female</td>\n",
       "      <td>...</td>\n",
       "      <td>Excellent</td>\n",
       "      <td>Low</td>\n",
       "      <td>0</td>\n",
       "      <td>10</td>\n",
       "      <td>3</td>\n",
       "      <td>Better</td>\n",
       "      <td>10</td>\n",
       "      <td>7</td>\n",
       "      <td>1</td>\n",
       "      <td>4</td>\n",
       "    </tr>\n",
       "    <tr>\n",
       "      <th>599</th>\n",
       "      <td>33</td>\n",
       "      <td>0.0</td>\n",
       "      <td>Travel_Rarely</td>\n",
       "      <td>1099</td>\n",
       "      <td>Research_Development</td>\n",
       "      <td>4</td>\n",
       "      <td>Master</td>\n",
       "      <td>Medical</td>\n",
       "      <td>Low</td>\n",
       "      <td>Female</td>\n",
       "      <td>...</td>\n",
       "      <td>Excellent</td>\n",
       "      <td>Very_High</td>\n",
       "      <td>0</td>\n",
       "      <td>8</td>\n",
       "      <td>5</td>\n",
       "      <td>Better</td>\n",
       "      <td>5</td>\n",
       "      <td>4</td>\n",
       "      <td>0</td>\n",
       "      <td>2</td>\n",
       "    </tr>\n",
       "    <tr>\n",
       "      <th>117</th>\n",
       "      <td>24</td>\n",
       "      <td>0.0</td>\n",
       "      <td>Travel_Rarely</td>\n",
       "      <td>350</td>\n",
       "      <td>Research_Development</td>\n",
       "      <td>21</td>\n",
       "      <td>College</td>\n",
       "      <td>Technical_Degree</td>\n",
       "      <td>High</td>\n",
       "      <td>Male</td>\n",
       "      <td>...</td>\n",
       "      <td>Excellent</td>\n",
       "      <td>Medium</td>\n",
       "      <td>3</td>\n",
       "      <td>2</td>\n",
       "      <td>3</td>\n",
       "      <td>Better</td>\n",
       "      <td>1</td>\n",
       "      <td>1</td>\n",
       "      <td>0</td>\n",
       "      <td>0</td>\n",
       "    </tr>\n",
       "    <tr>\n",
       "      <th>472</th>\n",
       "      <td>30</td>\n",
       "      <td>0.0</td>\n",
       "      <td>Travel_Rarely</td>\n",
       "      <td>921</td>\n",
       "      <td>Research_Development</td>\n",
       "      <td>1</td>\n",
       "      <td>Bachelor</td>\n",
       "      <td>Life_Sciences</td>\n",
       "      <td>Very_High</td>\n",
       "      <td>Male</td>\n",
       "      <td>...</td>\n",
       "      <td>Outstanding</td>\n",
       "      <td>High</td>\n",
       "      <td>2</td>\n",
       "      <td>7</td>\n",
       "      <td>2</td>\n",
       "      <td>Better</td>\n",
       "      <td>2</td>\n",
       "      <td>2</td>\n",
       "      <td>0</td>\n",
       "      <td>2</td>\n",
       "    </tr>\n",
       "    <tr>\n",
       "      <th>149</th>\n",
       "      <td>27</td>\n",
       "      <td>0.0</td>\n",
       "      <td>Non-Travel</td>\n",
       "      <td>1277</td>\n",
       "      <td>Research_Development</td>\n",
       "      <td>8</td>\n",
       "      <td>Doctor</td>\n",
       "      <td>Life_Sciences</td>\n",
       "      <td>Low</td>\n",
       "      <td>Male</td>\n",
       "      <td>...</td>\n",
       "      <td>Excellent</td>\n",
       "      <td>Very_High</td>\n",
       "      <td>3</td>\n",
       "      <td>3</td>\n",
       "      <td>4</td>\n",
       "      <td>Better</td>\n",
       "      <td>3</td>\n",
       "      <td>2</td>\n",
       "      <td>1</td>\n",
       "      <td>2</td>\n",
       "    </tr>\n",
       "    <tr>\n",
       "      <th>49</th>\n",
       "      <td>20</td>\n",
       "      <td>1.0</td>\n",
       "      <td>Travel_Rarely</td>\n",
       "      <td>129</td>\n",
       "      <td>Research_Development</td>\n",
       "      <td>4</td>\n",
       "      <td>Bachelor</td>\n",
       "      <td>Technical_Degree</td>\n",
       "      <td>Low</td>\n",
       "      <td>Male</td>\n",
       "      <td>...</td>\n",
       "      <td>Excellent</td>\n",
       "      <td>Medium</td>\n",
       "      <td>0</td>\n",
       "      <td>1</td>\n",
       "      <td>2</td>\n",
       "      <td>Better</td>\n",
       "      <td>1</td>\n",
       "      <td>0</td>\n",
       "      <td>0</td>\n",
       "      <td>0</td>\n",
       "    </tr>\n",
       "    <tr>\n",
       "      <th>1380</th>\n",
       "      <td>44</td>\n",
       "      <td>0.0</td>\n",
       "      <td>Travel_Rarely</td>\n",
       "      <td>1099</td>\n",
       "      <td>Sales</td>\n",
       "      <td>5</td>\n",
       "      <td>Bachelor</td>\n",
       "      <td>Marketing</td>\n",
       "      <td>Medium</td>\n",
       "      <td>Male</td>\n",
       "      <td>...</td>\n",
       "      <td>Excellent</td>\n",
       "      <td>High</td>\n",
       "      <td>1</td>\n",
       "      <td>26</td>\n",
       "      <td>5</td>\n",
       "      <td>Better</td>\n",
       "      <td>22</td>\n",
       "      <td>9</td>\n",
       "      <td>3</td>\n",
       "      <td>10</td>\n",
       "    </tr>\n",
       "    <tr>\n",
       "      <th>1285</th>\n",
       "      <td>39</td>\n",
       "      <td>0.0</td>\n",
       "      <td>Travel_Rarely</td>\n",
       "      <td>412</td>\n",
       "      <td>Research_Development</td>\n",
       "      <td>13</td>\n",
       "      <td>Master</td>\n",
       "      <td>Medical</td>\n",
       "      <td>High</td>\n",
       "      <td>Female</td>\n",
       "      <td>...</td>\n",
       "      <td>Excellent</td>\n",
       "      <td>Very_High</td>\n",
       "      <td>2</td>\n",
       "      <td>21</td>\n",
       "      <td>4</td>\n",
       "      <td>Better</td>\n",
       "      <td>19</td>\n",
       "      <td>9</td>\n",
       "      <td>15</td>\n",
       "      <td>2</td>\n",
       "    </tr>\n",
       "    <tr>\n",
       "      <th>1294</th>\n",
       "      <td>39</td>\n",
       "      <td>0.0</td>\n",
       "      <td>Non-Travel</td>\n",
       "      <td>105</td>\n",
       "      <td>Research_Development</td>\n",
       "      <td>9</td>\n",
       "      <td>Bachelor</td>\n",
       "      <td>Life_Sciences</td>\n",
       "      <td>Very_High</td>\n",
       "      <td>Male</td>\n",
       "      <td>...</td>\n",
       "      <td>Excellent</td>\n",
       "      <td>High</td>\n",
       "      <td>0</td>\n",
       "      <td>21</td>\n",
       "      <td>3</td>\n",
       "      <td>Good</td>\n",
       "      <td>6</td>\n",
       "      <td>0</td>\n",
       "      <td>1</td>\n",
       "      <td>3</td>\n",
       "    </tr>\n",
       "    <tr>\n",
       "      <th>1408</th>\n",
       "      <td>51</td>\n",
       "      <td>0.0</td>\n",
       "      <td>Travel_Rarely</td>\n",
       "      <td>1318</td>\n",
       "      <td>Sales</td>\n",
       "      <td>26</td>\n",
       "      <td>Master</td>\n",
       "      <td>Marketing</td>\n",
       "      <td>Low</td>\n",
       "      <td>Female</td>\n",
       "      <td>...</td>\n",
       "      <td>Excellent</td>\n",
       "      <td>High</td>\n",
       "      <td>1</td>\n",
       "      <td>29</td>\n",
       "      <td>2</td>\n",
       "      <td>Good</td>\n",
       "      <td>20</td>\n",
       "      <td>6</td>\n",
       "      <td>4</td>\n",
       "      <td>17</td>\n",
       "    </tr>\n",
       "    <tr>\n",
       "      <th>1299</th>\n",
       "      <td>45</td>\n",
       "      <td>0.0</td>\n",
       "      <td>Non-Travel</td>\n",
       "      <td>1195</td>\n",
       "      <td>Research_Development</td>\n",
       "      <td>2</td>\n",
       "      <td>College</td>\n",
       "      <td>Medical</td>\n",
       "      <td>Low</td>\n",
       "      <td>Male</td>\n",
       "      <td>...</td>\n",
       "      <td>Outstanding</td>\n",
       "      <td>Very_High</td>\n",
       "      <td>1</td>\n",
       "      <td>22</td>\n",
       "      <td>1</td>\n",
       "      <td>Better</td>\n",
       "      <td>20</td>\n",
       "      <td>8</td>\n",
       "      <td>11</td>\n",
       "      <td>8</td>\n",
       "    </tr>\n",
       "    <tr>\n",
       "      <th>1280</th>\n",
       "      <td>42</td>\n",
       "      <td>0.0</td>\n",
       "      <td>Travel_Rarely</td>\n",
       "      <td>265</td>\n",
       "      <td>Sales</td>\n",
       "      <td>5</td>\n",
       "      <td>College</td>\n",
       "      <td>Marketing</td>\n",
       "      <td>Very_High</td>\n",
       "      <td>Male</td>\n",
       "      <td>...</td>\n",
       "      <td>Excellent</td>\n",
       "      <td>Medium</td>\n",
       "      <td>0</td>\n",
       "      <td>21</td>\n",
       "      <td>3</td>\n",
       "      <td>Best</td>\n",
       "      <td>1</td>\n",
       "      <td>0</td>\n",
       "      <td>0</td>\n",
       "      <td>0</td>\n",
       "    </tr>\n",
       "    <tr>\n",
       "      <th>1334</th>\n",
       "      <td>46</td>\n",
       "      <td>0.0</td>\n",
       "      <td>Travel_Rarely</td>\n",
       "      <td>228</td>\n",
       "      <td>Sales</td>\n",
       "      <td>3</td>\n",
       "      <td>Bachelor</td>\n",
       "      <td>Life_Sciences</td>\n",
       "      <td>High</td>\n",
       "      <td>Female</td>\n",
       "      <td>...</td>\n",
       "      <td>Excellent</td>\n",
       "      <td>Very_High</td>\n",
       "      <td>1</td>\n",
       "      <td>23</td>\n",
       "      <td>2</td>\n",
       "      <td>Best</td>\n",
       "      <td>13</td>\n",
       "      <td>12</td>\n",
       "      <td>5</td>\n",
       "      <td>1</td>\n",
       "    </tr>\n",
       "    <tr>\n",
       "      <th>1387</th>\n",
       "      <td>48</td>\n",
       "      <td>0.0</td>\n",
       "      <td>Non-Travel</td>\n",
       "      <td>1262</td>\n",
       "      <td>Research_Development</td>\n",
       "      <td>1</td>\n",
       "      <td>Master</td>\n",
       "      <td>Medical</td>\n",
       "      <td>Low</td>\n",
       "      <td>Male</td>\n",
       "      <td>...</td>\n",
       "      <td>Outstanding</td>\n",
       "      <td>High</td>\n",
       "      <td>0</td>\n",
       "      <td>27</td>\n",
       "      <td>3</td>\n",
       "      <td>Good</td>\n",
       "      <td>5</td>\n",
       "      <td>4</td>\n",
       "      <td>2</td>\n",
       "      <td>1</td>\n",
       "    </tr>\n",
       "    <tr>\n",
       "      <th>1345</th>\n",
       "      <td>55</td>\n",
       "      <td>1.0</td>\n",
       "      <td>Travel_Rarely</td>\n",
       "      <td>725</td>\n",
       "      <td>Research_Development</td>\n",
       "      <td>2</td>\n",
       "      <td>Bachelor</td>\n",
       "      <td>Medical</td>\n",
       "      <td>Very_High</td>\n",
       "      <td>Male</td>\n",
       "      <td>...</td>\n",
       "      <td>Excellent</td>\n",
       "      <td>Very_High</td>\n",
       "      <td>1</td>\n",
       "      <td>24</td>\n",
       "      <td>2</td>\n",
       "      <td>Better</td>\n",
       "      <td>5</td>\n",
       "      <td>2</td>\n",
       "      <td>1</td>\n",
       "      <td>4</td>\n",
       "    </tr>\n",
       "    <tr>\n",
       "      <th>1433</th>\n",
       "      <td>50</td>\n",
       "      <td>0.0</td>\n",
       "      <td>Travel_Rarely</td>\n",
       "      <td>854</td>\n",
       "      <td>Sales</td>\n",
       "      <td>1</td>\n",
       "      <td>Master</td>\n",
       "      <td>Medical</td>\n",
       "      <td>Very_High</td>\n",
       "      <td>Female</td>\n",
       "      <td>...</td>\n",
       "      <td>Excellent</td>\n",
       "      <td>High</td>\n",
       "      <td>1</td>\n",
       "      <td>32</td>\n",
       "      <td>3</td>\n",
       "      <td>Good</td>\n",
       "      <td>7</td>\n",
       "      <td>0</td>\n",
       "      <td>0</td>\n",
       "      <td>6</td>\n",
       "    </tr>\n",
       "    <tr>\n",
       "      <th>1284</th>\n",
       "      <td>40</td>\n",
       "      <td>0.0</td>\n",
       "      <td>Travel_Rarely</td>\n",
       "      <td>1308</td>\n",
       "      <td>Research_Development</td>\n",
       "      <td>14</td>\n",
       "      <td>Bachelor</td>\n",
       "      <td>Medical</td>\n",
       "      <td>High</td>\n",
       "      <td>Male</td>\n",
       "      <td>...</td>\n",
       "      <td>Excellent</td>\n",
       "      <td>Low</td>\n",
       "      <td>0</td>\n",
       "      <td>21</td>\n",
       "      <td>2</td>\n",
       "      <td>Best</td>\n",
       "      <td>20</td>\n",
       "      <td>7</td>\n",
       "      <td>4</td>\n",
       "      <td>9</td>\n",
       "    </tr>\n",
       "    <tr>\n",
       "      <th>664</th>\n",
       "      <td>27</td>\n",
       "      <td>0.0</td>\n",
       "      <td>Travel_Rarely</td>\n",
       "      <td>269</td>\n",
       "      <td>Research_Development</td>\n",
       "      <td>5</td>\n",
       "      <td>Below_College</td>\n",
       "      <td>Technical_Degree</td>\n",
       "      <td>High</td>\n",
       "      <td>Male</td>\n",
       "      <td>...</td>\n",
       "      <td>Excellent</td>\n",
       "      <td>Medium</td>\n",
       "      <td>1</td>\n",
       "      <td>9</td>\n",
       "      <td>3</td>\n",
       "      <td>Better</td>\n",
       "      <td>9</td>\n",
       "      <td>8</td>\n",
       "      <td>0</td>\n",
       "      <td>8</td>\n",
       "    </tr>\n",
       "    <tr>\n",
       "      <th>1216</th>\n",
       "      <td>38</td>\n",
       "      <td>0.0</td>\n",
       "      <td>Travel_Rarely</td>\n",
       "      <td>849</td>\n",
       "      <td>Research_Development</td>\n",
       "      <td>25</td>\n",
       "      <td>College</td>\n",
       "      <td>Life_Sciences</td>\n",
       "      <td>Low</td>\n",
       "      <td>Female</td>\n",
       "      <td>...</td>\n",
       "      <td>Excellent</td>\n",
       "      <td>High</td>\n",
       "      <td>1</td>\n",
       "      <td>19</td>\n",
       "      <td>2</td>\n",
       "      <td>Better</td>\n",
       "      <td>10</td>\n",
       "      <td>8</td>\n",
       "      <td>0</td>\n",
       "      <td>1</td>\n",
       "    </tr>\n",
       "    <tr>\n",
       "      <th>1062</th>\n",
       "      <td>43</td>\n",
       "      <td>0.0</td>\n",
       "      <td>Travel_Rarely</td>\n",
       "      <td>1291</td>\n",
       "      <td>Research_Development</td>\n",
       "      <td>15</td>\n",
       "      <td>College</td>\n",
       "      <td>Life_Sciences</td>\n",
       "      <td>High</td>\n",
       "      <td>Male</td>\n",
       "      <td>...</td>\n",
       "      <td>Outstanding</td>\n",
       "      <td>Low</td>\n",
       "      <td>1</td>\n",
       "      <td>14</td>\n",
       "      <td>3</td>\n",
       "      <td>Better</td>\n",
       "      <td>14</td>\n",
       "      <td>10</td>\n",
       "      <td>6</td>\n",
       "      <td>11</td>\n",
       "    </tr>\n",
       "    <tr>\n",
       "      <th>1226</th>\n",
       "      <td>50</td>\n",
       "      <td>0.0</td>\n",
       "      <td>Travel_Rarely</td>\n",
       "      <td>813</td>\n",
       "      <td>Research_Development</td>\n",
       "      <td>17</td>\n",
       "      <td>Doctor</td>\n",
       "      <td>Life_Sciences</td>\n",
       "      <td>Very_High</td>\n",
       "      <td>Female</td>\n",
       "      <td>...</td>\n",
       "      <td>Excellent</td>\n",
       "      <td>High</td>\n",
       "      <td>3</td>\n",
       "      <td>19</td>\n",
       "      <td>3</td>\n",
       "      <td>Better</td>\n",
       "      <td>14</td>\n",
       "      <td>11</td>\n",
       "      <td>1</td>\n",
       "      <td>11</td>\n",
       "    </tr>\n",
       "    <tr>\n",
       "      <th>1041</th>\n",
       "      <td>31</td>\n",
       "      <td>0.0</td>\n",
       "      <td>Non-Travel</td>\n",
       "      <td>697</td>\n",
       "      <td>Research_Development</td>\n",
       "      <td>10</td>\n",
       "      <td>Bachelor</td>\n",
       "      <td>Medical</td>\n",
       "      <td>High</td>\n",
       "      <td>Female</td>\n",
       "      <td>...</td>\n",
       "      <td>Outstanding</td>\n",
       "      <td>High</td>\n",
       "      <td>1</td>\n",
       "      <td>13</td>\n",
       "      <td>2</td>\n",
       "      <td>Best</td>\n",
       "      <td>11</td>\n",
       "      <td>7</td>\n",
       "      <td>4</td>\n",
       "      <td>8</td>\n",
       "    </tr>\n",
       "    <tr>\n",
       "      <th>768</th>\n",
       "      <td>29</td>\n",
       "      <td>0.0</td>\n",
       "      <td>Travel_Rarely</td>\n",
       "      <td>986</td>\n",
       "      <td>Research_Development</td>\n",
       "      <td>3</td>\n",
       "      <td>Master</td>\n",
       "      <td>Medical</td>\n",
       "      <td>Medium</td>\n",
       "      <td>Male</td>\n",
       "      <td>...</td>\n",
       "      <td>Excellent</td>\n",
       "      <td>High</td>\n",
       "      <td>0</td>\n",
       "      <td>10</td>\n",
       "      <td>2</td>\n",
       "      <td>Better</td>\n",
       "      <td>10</td>\n",
       "      <td>2</td>\n",
       "      <td>0</td>\n",
       "      <td>7</td>\n",
       "    </tr>\n",
       "    <tr>\n",
       "      <th>1007</th>\n",
       "      <td>34</td>\n",
       "      <td>0.0</td>\n",
       "      <td>Travel_Rarely</td>\n",
       "      <td>419</td>\n",
       "      <td>Research_Development</td>\n",
       "      <td>7</td>\n",
       "      <td>Master</td>\n",
       "      <td>Life_Sciences</td>\n",
       "      <td>Low</td>\n",
       "      <td>Female</td>\n",
       "      <td>...</td>\n",
       "      <td>Excellent</td>\n",
       "      <td>High</td>\n",
       "      <td>0</td>\n",
       "      <td>13</td>\n",
       "      <td>4</td>\n",
       "      <td>Better</td>\n",
       "      <td>12</td>\n",
       "      <td>6</td>\n",
       "      <td>2</td>\n",
       "      <td>11</td>\n",
       "    </tr>\n",
       "    <tr>\n",
       "      <th>1302</th>\n",
       "      <td>40</td>\n",
       "      <td>0.0</td>\n",
       "      <td>Travel_Rarely</td>\n",
       "      <td>1416</td>\n",
       "      <td>Research_Development</td>\n",
       "      <td>2</td>\n",
       "      <td>College</td>\n",
       "      <td>Medical</td>\n",
       "      <td>Low</td>\n",
       "      <td>Male</td>\n",
       "      <td>...</td>\n",
       "      <td>Excellent</td>\n",
       "      <td>Very_High</td>\n",
       "      <td>1</td>\n",
       "      <td>22</td>\n",
       "      <td>5</td>\n",
       "      <td>Better</td>\n",
       "      <td>21</td>\n",
       "      <td>7</td>\n",
       "      <td>3</td>\n",
       "      <td>9</td>\n",
       "    </tr>\n",
       "    <tr>\n",
       "      <th>1374</th>\n",
       "      <td>46</td>\n",
       "      <td>0.0</td>\n",
       "      <td>Travel_Rarely</td>\n",
       "      <td>1009</td>\n",
       "      <td>Research_Development</td>\n",
       "      <td>2</td>\n",
       "      <td>Bachelor</td>\n",
       "      <td>Life_Sciences</td>\n",
       "      <td>Low</td>\n",
       "      <td>Male</td>\n",
       "      <td>...</td>\n",
       "      <td>Excellent</td>\n",
       "      <td>High</td>\n",
       "      <td>0</td>\n",
       "      <td>26</td>\n",
       "      <td>2</td>\n",
       "      <td>Bad</td>\n",
       "      <td>3</td>\n",
       "      <td>2</td>\n",
       "      <td>0</td>\n",
       "      <td>1</td>\n",
       "    </tr>\n",
       "    <tr>\n",
       "      <th>104</th>\n",
       "      <td>20</td>\n",
       "      <td>1.0</td>\n",
       "      <td>Travel_Frequently</td>\n",
       "      <td>769</td>\n",
       "      <td>Sales</td>\n",
       "      <td>9</td>\n",
       "      <td>Bachelor</td>\n",
       "      <td>Marketing</td>\n",
       "      <td>Very_High</td>\n",
       "      <td>Female</td>\n",
       "      <td>...</td>\n",
       "      <td>Excellent</td>\n",
       "      <td>Medium</td>\n",
       "      <td>0</td>\n",
       "      <td>2</td>\n",
       "      <td>3</td>\n",
       "      <td>Better</td>\n",
       "      <td>2</td>\n",
       "      <td>2</td>\n",
       "      <td>0</td>\n",
       "      <td>2</td>\n",
       "    </tr>\n",
       "    <tr>\n",
       "      <th>169</th>\n",
       "      <td>41</td>\n",
       "      <td>1.0</td>\n",
       "      <td>Travel_Rarely</td>\n",
       "      <td>1356</td>\n",
       "      <td>Sales</td>\n",
       "      <td>20</td>\n",
       "      <td>College</td>\n",
       "      <td>Marketing</td>\n",
       "      <td>Medium</td>\n",
       "      <td>Female</td>\n",
       "      <td>...</td>\n",
       "      <td>Outstanding</td>\n",
       "      <td>Very_High</td>\n",
       "      <td>0</td>\n",
       "      <td>4</td>\n",
       "      <td>5</td>\n",
       "      <td>Good</td>\n",
       "      <td>4</td>\n",
       "      <td>3</td>\n",
       "      <td>0</td>\n",
       "      <td>2</td>\n",
       "    </tr>\n",
       "    <tr>\n",
       "      <th>164</th>\n",
       "      <td>32</td>\n",
       "      <td>0.0</td>\n",
       "      <td>Travel_Rarely</td>\n",
       "      <td>234</td>\n",
       "      <td>Sales</td>\n",
       "      <td>1</td>\n",
       "      <td>Master</td>\n",
       "      <td>Medical</td>\n",
       "      <td>Medium</td>\n",
       "      <td>Male</td>\n",
       "      <td>...</td>\n",
       "      <td>Excellent</td>\n",
       "      <td>Medium</td>\n",
       "      <td>1</td>\n",
       "      <td>3</td>\n",
       "      <td>2</td>\n",
       "      <td>Better</td>\n",
       "      <td>2</td>\n",
       "      <td>2</td>\n",
       "      <td>2</td>\n",
       "      <td>2</td>\n",
       "    </tr>\n",
       "    <tr>\n",
       "      <th>1150</th>\n",
       "      <td>52</td>\n",
       "      <td>0.0</td>\n",
       "      <td>Non-Travel</td>\n",
       "      <td>585</td>\n",
       "      <td>Sales</td>\n",
       "      <td>29</td>\n",
       "      <td>Master</td>\n",
       "      <td>Life_Sciences</td>\n",
       "      <td>Low</td>\n",
       "      <td>Male</td>\n",
       "      <td>...</td>\n",
       "      <td>Excellent</td>\n",
       "      <td>Medium</td>\n",
       "      <td>2</td>\n",
       "      <td>16</td>\n",
       "      <td>3</td>\n",
       "      <td>Good</td>\n",
       "      <td>9</td>\n",
       "      <td>8</td>\n",
       "      <td>0</td>\n",
       "      <td>0</td>\n",
       "    </tr>\n",
       "    <tr>\n",
       "      <th>69</th>\n",
       "      <td>24</td>\n",
       "      <td>0.0</td>\n",
       "      <td>Non-Travel</td>\n",
       "      <td>830</td>\n",
       "      <td>Sales</td>\n",
       "      <td>13</td>\n",
       "      <td>College</td>\n",
       "      <td>Life_Sciences</td>\n",
       "      <td>Very_High</td>\n",
       "      <td>Female</td>\n",
       "      <td>...</td>\n",
       "      <td>Excellent</td>\n",
       "      <td>High</td>\n",
       "      <td>1</td>\n",
       "      <td>1</td>\n",
       "      <td>2</td>\n",
       "      <td>Better</td>\n",
       "      <td>1</td>\n",
       "      <td>0</td>\n",
       "      <td>0</td>\n",
       "      <td>0</td>\n",
       "    </tr>\n",
       "    <tr>\n",
       "      <th>315</th>\n",
       "      <td>26</td>\n",
       "      <td>0.0</td>\n",
       "      <td>Travel_Rarely</td>\n",
       "      <td>1167</td>\n",
       "      <td>Sales</td>\n",
       "      <td>5</td>\n",
       "      <td>Bachelor</td>\n",
       "      <td>Other</td>\n",
       "      <td>Very_High</td>\n",
       "      <td>Female</td>\n",
       "      <td>...</td>\n",
       "      <td>Excellent</td>\n",
       "      <td>Very_High</td>\n",
       "      <td>0</td>\n",
       "      <td>5</td>\n",
       "      <td>2</td>\n",
       "      <td>Better</td>\n",
       "      <td>4</td>\n",
       "      <td>2</td>\n",
       "      <td>0</td>\n",
       "      <td>0</td>\n",
       "    </tr>\n",
       "    <tr>\n",
       "      <th>91</th>\n",
       "      <td>23</td>\n",
       "      <td>1.0</td>\n",
       "      <td>Travel_Frequently</td>\n",
       "      <td>638</td>\n",
       "      <td>Sales</td>\n",
       "      <td>9</td>\n",
       "      <td>Bachelor</td>\n",
       "      <td>Marketing</td>\n",
       "      <td>Very_High</td>\n",
       "      <td>Male</td>\n",
       "      <td>...</td>\n",
       "      <td>Excellent</td>\n",
       "      <td>Low</td>\n",
       "      <td>1</td>\n",
       "      <td>1</td>\n",
       "      <td>3</td>\n",
       "      <td>Good</td>\n",
       "      <td>1</td>\n",
       "      <td>0</td>\n",
       "      <td>1</td>\n",
       "      <td>0</td>\n",
       "    </tr>\n",
       "    <tr>\n",
       "      <th>148</th>\n",
       "      <td>33</td>\n",
       "      <td>0.0</td>\n",
       "      <td>Non-Travel</td>\n",
       "      <td>1038</td>\n",
       "      <td>Sales</td>\n",
       "      <td>8</td>\n",
       "      <td>Below_College</td>\n",
       "      <td>Life_Sciences</td>\n",
       "      <td>Medium</td>\n",
       "      <td>Female</td>\n",
       "      <td>...</td>\n",
       "      <td>Excellent</td>\n",
       "      <td>Very_High</td>\n",
       "      <td>0</td>\n",
       "      <td>3</td>\n",
       "      <td>2</td>\n",
       "      <td>Good</td>\n",
       "      <td>2</td>\n",
       "      <td>2</td>\n",
       "      <td>2</td>\n",
       "      <td>2</td>\n",
       "    </tr>\n",
       "    <tr>\n",
       "      <th>1008</th>\n",
       "      <td>53</td>\n",
       "      <td>0.0</td>\n",
       "      <td>Travel_Rarely</td>\n",
       "      <td>1436</td>\n",
       "      <td>Sales</td>\n",
       "      <td>6</td>\n",
       "      <td>College</td>\n",
       "      <td>Marketing</td>\n",
       "      <td>Medium</td>\n",
       "      <td>Male</td>\n",
       "      <td>...</td>\n",
       "      <td>Outstanding</td>\n",
       "      <td>Very_High</td>\n",
       "      <td>1</td>\n",
       "      <td>13</td>\n",
       "      <td>3</td>\n",
       "      <td>Bad</td>\n",
       "      <td>7</td>\n",
       "      <td>7</td>\n",
       "      <td>4</td>\n",
       "      <td>5</td>\n",
       "    </tr>\n",
       "    <tr>\n",
       "      <th>119</th>\n",
       "      <td>20</td>\n",
       "      <td>0.0</td>\n",
       "      <td>Travel_Rarely</td>\n",
       "      <td>727</td>\n",
       "      <td>Sales</td>\n",
       "      <td>9</td>\n",
       "      <td>Below_College</td>\n",
       "      <td>Life_Sciences</td>\n",
       "      <td>Very_High</td>\n",
       "      <td>Male</td>\n",
       "      <td>...</td>\n",
       "      <td>Excellent</td>\n",
       "      <td>Low</td>\n",
       "      <td>0</td>\n",
       "      <td>2</td>\n",
       "      <td>3</td>\n",
       "      <td>Better</td>\n",
       "      <td>2</td>\n",
       "      <td>2</td>\n",
       "      <td>0</td>\n",
       "      <td>2</td>\n",
       "    </tr>\n",
       "  </tbody>\n",
       "</table>\n",
       "<p>40 rows × 31 columns</p>\n",
       "</div>"
      ],
      "text/plain": [
       "      Age  Attrition     BusinessTravel  DailyRate            Department  \\\n",
       "1124   36        0.0      Travel_Rarely       1396  Research_Development   \n",
       "576    45        0.0      Travel_Rarely        974  Research_Development   \n",
       "995    42        0.0  Travel_Frequently        748  Research_Development   \n",
       "1243   50        0.0      Travel_Rarely       1207  Research_Development   \n",
       "869    45        0.0      Travel_Rarely       1015  Research_Development   \n",
       "599    33        0.0      Travel_Rarely       1099  Research_Development   \n",
       "117    24        0.0      Travel_Rarely        350  Research_Development   \n",
       "472    30        0.0      Travel_Rarely        921  Research_Development   \n",
       "149    27        0.0         Non-Travel       1277  Research_Development   \n",
       "49     20        1.0      Travel_Rarely        129  Research_Development   \n",
       "1380   44        0.0      Travel_Rarely       1099                 Sales   \n",
       "1285   39        0.0      Travel_Rarely        412  Research_Development   \n",
       "1294   39        0.0         Non-Travel        105  Research_Development   \n",
       "1408   51        0.0      Travel_Rarely       1318                 Sales   \n",
       "1299   45        0.0         Non-Travel       1195  Research_Development   \n",
       "1280   42        0.0      Travel_Rarely        265                 Sales   \n",
       "1334   46        0.0      Travel_Rarely        228                 Sales   \n",
       "1387   48        0.0         Non-Travel       1262  Research_Development   \n",
       "1345   55        1.0      Travel_Rarely        725  Research_Development   \n",
       "1433   50        0.0      Travel_Rarely        854                 Sales   \n",
       "1284   40        0.0      Travel_Rarely       1308  Research_Development   \n",
       "664    27        0.0      Travel_Rarely        269  Research_Development   \n",
       "1216   38        0.0      Travel_Rarely        849  Research_Development   \n",
       "1062   43        0.0      Travel_Rarely       1291  Research_Development   \n",
       "1226   50        0.0      Travel_Rarely        813  Research_Development   \n",
       "1041   31        0.0         Non-Travel        697  Research_Development   \n",
       "768    29        0.0      Travel_Rarely        986  Research_Development   \n",
       "1007   34        0.0      Travel_Rarely        419  Research_Development   \n",
       "1302   40        0.0      Travel_Rarely       1416  Research_Development   \n",
       "1374   46        0.0      Travel_Rarely       1009  Research_Development   \n",
       "104    20        1.0  Travel_Frequently        769                 Sales   \n",
       "169    41        1.0      Travel_Rarely       1356                 Sales   \n",
       "164    32        0.0      Travel_Rarely        234                 Sales   \n",
       "1150   52        0.0         Non-Travel        585                 Sales   \n",
       "69     24        0.0         Non-Travel        830                 Sales   \n",
       "315    26        0.0      Travel_Rarely       1167                 Sales   \n",
       "91     23        1.0  Travel_Frequently        638                 Sales   \n",
       "148    33        0.0         Non-Travel       1038                 Sales   \n",
       "1008   53        0.0      Travel_Rarely       1436                 Sales   \n",
       "119    20        0.0      Travel_Rarely        727                 Sales   \n",
       "\n",
       "      DistanceFromHome      Education    EducationField  \\\n",
       "1124                 5        College     Life_Sciences   \n",
       "576                  1         Master           Medical   \n",
       "995                  9        College           Medical   \n",
       "1243                28  Below_College           Medical   \n",
       "869                  5         Doctor           Medical   \n",
       "599                  4         Master           Medical   \n",
       "117                 21        College  Technical_Degree   \n",
       "472                  1       Bachelor     Life_Sciences   \n",
       "149                  8         Doctor     Life_Sciences   \n",
       "49                   4       Bachelor  Technical_Degree   \n",
       "1380                 5       Bachelor         Marketing   \n",
       "1285                13         Master           Medical   \n",
       "1294                 9       Bachelor     Life_Sciences   \n",
       "1408                26         Master         Marketing   \n",
       "1299                 2        College           Medical   \n",
       "1280                 5        College         Marketing   \n",
       "1334                 3       Bachelor     Life_Sciences   \n",
       "1387                 1         Master           Medical   \n",
       "1345                 2       Bachelor           Medical   \n",
       "1433                 1         Master           Medical   \n",
       "1284                14       Bachelor           Medical   \n",
       "664                  5  Below_College  Technical_Degree   \n",
       "1216                25        College     Life_Sciences   \n",
       "1062                15        College     Life_Sciences   \n",
       "1226                17         Doctor     Life_Sciences   \n",
       "1041                10       Bachelor           Medical   \n",
       "768                  3         Master           Medical   \n",
       "1007                 7         Master     Life_Sciences   \n",
       "1302                 2        College           Medical   \n",
       "1374                 2       Bachelor     Life_Sciences   \n",
       "104                  9       Bachelor         Marketing   \n",
       "169                 20        College         Marketing   \n",
       "164                  1         Master           Medical   \n",
       "1150                29         Master     Life_Sciences   \n",
       "69                  13        College     Life_Sciences   \n",
       "315                  5       Bachelor             Other   \n",
       "91                   9       Bachelor         Marketing   \n",
       "148                  8  Below_College     Life_Sciences   \n",
       "1008                 6        College         Marketing   \n",
       "119                  9  Below_College     Life_Sciences   \n",
       "\n",
       "     EnvironmentSatisfaction  Gender  ...  PerformanceRating  \\\n",
       "1124               Very_High    Male  ...          Excellent   \n",
       "576                Very_High  Female  ...          Excellent   \n",
       "995                      Low  Female  ...          Excellent   \n",
       "1243               Very_High    Male  ...          Excellent   \n",
       "869                     High  Female  ...          Excellent   \n",
       "599                      Low  Female  ...          Excellent   \n",
       "117                     High    Male  ...          Excellent   \n",
       "472                Very_High    Male  ...        Outstanding   \n",
       "149                      Low    Male  ...          Excellent   \n",
       "49                       Low    Male  ...          Excellent   \n",
       "1380                  Medium    Male  ...          Excellent   \n",
       "1285                    High  Female  ...          Excellent   \n",
       "1294               Very_High    Male  ...          Excellent   \n",
       "1408                     Low  Female  ...          Excellent   \n",
       "1299                     Low    Male  ...        Outstanding   \n",
       "1280               Very_High    Male  ...          Excellent   \n",
       "1334                    High  Female  ...          Excellent   \n",
       "1387                     Low    Male  ...        Outstanding   \n",
       "1345               Very_High    Male  ...          Excellent   \n",
       "1433               Very_High  Female  ...          Excellent   \n",
       "1284                    High    Male  ...          Excellent   \n",
       "664                     High    Male  ...          Excellent   \n",
       "1216                     Low  Female  ...          Excellent   \n",
       "1062                    High    Male  ...        Outstanding   \n",
       "1226               Very_High  Female  ...          Excellent   \n",
       "1041                    High  Female  ...        Outstanding   \n",
       "768                   Medium    Male  ...          Excellent   \n",
       "1007                     Low  Female  ...          Excellent   \n",
       "1302                     Low    Male  ...          Excellent   \n",
       "1374                     Low    Male  ...          Excellent   \n",
       "104                Very_High  Female  ...          Excellent   \n",
       "169                   Medium  Female  ...        Outstanding   \n",
       "164                   Medium    Male  ...          Excellent   \n",
       "1150                     Low    Male  ...          Excellent   \n",
       "69                 Very_High  Female  ...          Excellent   \n",
       "315                Very_High  Female  ...          Excellent   \n",
       "91                 Very_High    Male  ...          Excellent   \n",
       "148                   Medium  Female  ...          Excellent   \n",
       "1008                  Medium    Male  ...        Outstanding   \n",
       "119                Very_High    Male  ...          Excellent   \n",
       "\n",
       "     RelationshipSatisfaction  StockOptionLevel TotalWorkingYears  \\\n",
       "1124                Very_High                 0                16   \n",
       "576                 Very_High                 2                 8   \n",
       "995                      High                 0                12   \n",
       "1243                     High                 3                20   \n",
       "869                       Low                 0                10   \n",
       "599                 Very_High                 0                 8   \n",
       "117                    Medium                 3                 2   \n",
       "472                      High                 2                 7   \n",
       "149                 Very_High                 3                 3   \n",
       "49                     Medium                 0                 1   \n",
       "1380                     High                 1                26   \n",
       "1285                Very_High                 2                21   \n",
       "1294                     High                 0                21   \n",
       "1408                     High                 1                29   \n",
       "1299                Very_High                 1                22   \n",
       "1280                   Medium                 0                21   \n",
       "1334                Very_High                 1                23   \n",
       "1387                     High                 0                27   \n",
       "1345                Very_High                 1                24   \n",
       "1433                     High                 1                32   \n",
       "1284                      Low                 0                21   \n",
       "664                    Medium                 1                 9   \n",
       "1216                     High                 1                19   \n",
       "1062                      Low                 1                14   \n",
       "1226                     High                 3                19   \n",
       "1041                     High                 1                13   \n",
       "768                      High                 0                10   \n",
       "1007                     High                 0                13   \n",
       "1302                Very_High                 1                22   \n",
       "1374                     High                 0                26   \n",
       "104                    Medium                 0                 2   \n",
       "169                 Very_High                 0                 4   \n",
       "164                    Medium                 1                 3   \n",
       "1150                   Medium                 2                16   \n",
       "69                       High                 1                 1   \n",
       "315                 Very_High                 0                 5   \n",
       "91                        Low                 1                 1   \n",
       "148                 Very_High                 0                 3   \n",
       "1008                Very_High                 1                13   \n",
       "119                       Low                 0                 2   \n",
       "\n",
       "     TrainingTimesLastYear WorkLifeBalance  YearsAtCompany  \\\n",
       "1124                     3            Best              13   \n",
       "576                      2          Better               5   \n",
       "995                      3          Better              12   \n",
       "1243                     3          Better              20   \n",
       "869                      3          Better              10   \n",
       "599                      5          Better               5   \n",
       "117                      3          Better               1   \n",
       "472                      2          Better               2   \n",
       "149                      4          Better               3   \n",
       "49                       2          Better               1   \n",
       "1380                     5          Better              22   \n",
       "1285                     4          Better              19   \n",
       "1294                     3            Good               6   \n",
       "1408                     2            Good              20   \n",
       "1299                     1          Better              20   \n",
       "1280                     3            Best               1   \n",
       "1334                     2            Best              13   \n",
       "1387                     3            Good               5   \n",
       "1345                     2          Better               5   \n",
       "1433                     3            Good               7   \n",
       "1284                     2            Best              20   \n",
       "664                      3          Better               9   \n",
       "1216                     2          Better              10   \n",
       "1062                     3          Better              14   \n",
       "1226                     3          Better              14   \n",
       "1041                     2            Best              11   \n",
       "768                      2          Better              10   \n",
       "1007                     4          Better              12   \n",
       "1302                     5          Better              21   \n",
       "1374                     2             Bad               3   \n",
       "104                      3          Better               2   \n",
       "169                      5            Good               4   \n",
       "164                      2          Better               2   \n",
       "1150                     3            Good               9   \n",
       "69                       2          Better               1   \n",
       "315                      2          Better               4   \n",
       "91                       3            Good               1   \n",
       "148                      2            Good               2   \n",
       "1008                     3             Bad               7   \n",
       "119                      3          Better               2   \n",
       "\n",
       "      YearsInCurrentRole  YearsSinceLastPromotion YearsWithCurrManager  \n",
       "1124                  11                        3                    7  \n",
       "576                    3                        0                    2  \n",
       "995                    9                        5                    8  \n",
       "1243                   8                        3                    8  \n",
       "869                    7                        1                    4  \n",
       "599                    4                        0                    2  \n",
       "117                    1                        0                    0  \n",
       "472                    2                        0                    2  \n",
       "149                    2                        1                    2  \n",
       "49                     0                        0                    0  \n",
       "1380                   9                        3                   10  \n",
       "1285                   9                       15                    2  \n",
       "1294                   0                        1                    3  \n",
       "1408                   6                        4                   17  \n",
       "1299                   8                       11                    8  \n",
       "1280                   0                        0                    0  \n",
       "1334                  12                        5                    1  \n",
       "1387                   4                        2                    1  \n",
       "1345                   2                        1                    4  \n",
       "1433                   0                        0                    6  \n",
       "1284                   7                        4                    9  \n",
       "664                    8                        0                    8  \n",
       "1216                   8                        0                    1  \n",
       "1062                  10                        6                   11  \n",
       "1226                  11                        1                   11  \n",
       "1041                   7                        4                    8  \n",
       "768                    2                        0                    7  \n",
       "1007                   6                        2                   11  \n",
       "1302                   7                        3                    9  \n",
       "1374                   2                        0                    1  \n",
       "104                    2                        0                    2  \n",
       "169                    3                        0                    2  \n",
       "164                    2                        2                    2  \n",
       "1150                   8                        0                    0  \n",
       "69                     0                        0                    0  \n",
       "315                    2                        0                    0  \n",
       "91                     0                        1                    0  \n",
       "148                    2                        2                    2  \n",
       "1008                   7                        4                    5  \n",
       "119                    2                        0                    2  \n",
       "\n",
       "[40 rows x 31 columns]"
      ]
     },
     "execution_count": 213,
     "metadata": {},
     "output_type": "execute_result"
    }
   ],
   "source": [
    "# sampling the filterd data\n",
    "attrition_clustered_sample = attrition_filltered.groupby('JobRole').sample(n=10, random_state=2022) \n",
    "attrition_clustered_sample"
   ]
  },
  {
   "cell_type": "code",
   "execution_count": null,
   "id": "d117ae15",
   "metadata": {},
   "outputs": [],
   "source": []
  },
  {
   "cell_type": "markdown",
   "id": "f50d7f9e",
   "metadata": {},
   "source": [
    "## Point Estimate of the Types of Sampling\n",
    "\n",
    "**Point Estimate**: this is the statistical resutt obtained from a sampled data.\n",
    "\n",
    "**Population Parameter**: this is the statistical resutt obtained from a whole population dataset\n",
    "\n",
    "Focusing on the `RelationshipSatisfaction` column of the `attrition_population` data. It categorizes employee's relationship with the company"
   ]
  },
  {
   "cell_type": "code",
   "execution_count": 216,
   "id": "9b90640f",
   "metadata": {},
   "outputs": [
    {
     "data": {
      "text/plain": [
       "(368, 31)"
      ]
     },
     "execution_count": 216,
     "metadata": {},
     "output_type": "execute_result"
    }
   ],
   "source": [
    "# simple random sample: 25% observation of the  whole population data\n",
    "attrition_srs = attrition_population.sample(frac=0.25, random_state=2022)\n",
    "attrition_srs.shape"
   ]
  },
  {
   "cell_type": "code",
   "execution_count": 219,
   "id": "47df7bdb",
   "metadata": {},
   "outputs": [
    {
     "data": {
      "text/plain": [
       "(368, 31)"
      ]
     },
     "execution_count": 219,
     "metadata": {},
     "output_type": "execute_result"
    }
   ],
   "source": [
    "# stratified sample: 25% of each categories\n",
    "attrition_stratified = attrition_population.groupby('RelationshipSatisfaction').sample(frac=0.25, random_state=2022)\n",
    "attrition_stratified.shape"
   ]
  },
  {
   "cell_type": "code",
   "execution_count": 235,
   "id": "d960d50d",
   "metadata": {},
   "outputs": [
    {
     "name": "stderr",
     "output_type": "stream",
     "text": [
      "<ipython-input-235-0f4e620be64c>:14: SettingWithCopyWarning: \n",
      "A value is trying to be set on a copy of a slice from a DataFrame.\n",
      "Try using .loc[row_indexer,col_indexer] = value instead\n",
      "\n",
      "See the caveats in the documentation: https://pandas.pydata.org/pandas-docs/stable/user_guide/indexing.html#returning-a-view-versus-a-copy\n",
      "  attrition_filtered['RelationshipSatisfaction'] = attrition_filtered['RelationshipSatisfaction'].cat.remove_unused_categories()\n"
     ]
    }
   ],
   "source": [
    "# clustered sampling: 25% of filtered attrition_population data\n",
    "unique_relationship = list(attrition_population['RelationshipSatisfaction'].unique())\n",
    "\n",
    "# randomly sample two values from unique_relationship\n",
    "selected_relationship = random.sample(unique_relationship, k=2)\n",
    "\n",
    "# filter condition\n",
    "filtered_condition = attrition_population['RelationshipSatisfaction'].isin(selected_relationship)\n",
    "\n",
    "# clustered sample: based on the randomly selected columns\n",
    "attrition_filtered = attrition_population[filtered_condition]\n",
    "\n",
    "# drop row there RelationshipSatisfaction is zero\n",
    "attrition_filtered['RelationshipSatisfaction'] = attrition_filtered['RelationshipSatisfaction'].cat.remove_unused_categories()"
   ]
  },
  {
   "cell_type": "code",
   "execution_count": 246,
   "id": "ff6db9ef",
   "metadata": {},
   "outputs": [
    {
     "data": {
      "text/plain": [
       "(736, 31)"
      ]
     },
     "execution_count": 246,
     "metadata": {},
     "output_type": "execute_result"
    }
   ],
   "source": [
    "# clustered sample: 25% of the filtered attrition data\n",
    "attrition_clustered = attrition_filtered.groupby('RelationshipSatisfaction').sample(n=round(len(attrition_population) * 0.25), random_state=2022, replace=True)\n",
    "attrition_clustered.shape"
   ]
  },
  {
   "cell_type": "markdown",
   "id": "79c1a6a1",
   "metadata": {},
   "source": [
    "Now, calculate the **point estimate** of the three types of sample we have discussed **(simple, stratifies and cluster)** and compare their point estimate to the **population parameter**.\n",
    "\n",
    "Calculate the `Attrition` mean for each `RelationshipSatisfied` level."
   ]
  },
  {
   "cell_type": "code",
   "execution_count": 253,
   "id": "afe31dbc",
   "metadata": {},
   "outputs": [
    {
     "data": {
      "text/plain": [
       "RelationshipSatisfaction\n",
       "Low          0.206522\n",
       "Medium       0.148515\n",
       "High         0.154684\n",
       "Very_High    0.148148\n",
       "Name: Attrition, dtype: float64"
      ]
     },
     "execution_count": 253,
     "metadata": {},
     "output_type": "execute_result"
    }
   ],
   "source": [
    "#  population parameter\n",
    "pop_mean  = attrition_population.groupby('RelationshipSatisfaction').Attrition.mean()\n",
    "pop_mean"
   ]
  },
  {
   "cell_type": "code",
   "execution_count": 254,
   "id": "1aac8ceb",
   "metadata": {},
   "outputs": [
    {
     "data": {
      "text/plain": [
       "RelationshipSatisfaction\n",
       "Low          0.206522\n",
       "Medium       0.148515\n",
       "High         0.154684\n",
       "Very_High    0.148148\n",
       "Name: Attrition, dtype: float64"
      ]
     },
     "execution_count": 254,
     "metadata": {},
     "output_type": "execute_result"
    }
   ],
   "source": [
    "# simple random model point estimate: mean\n",
    "srs_mean = attrition_population.groupby('RelationshipSatisfaction').Attrition.mean()\n",
    "srs_mean"
   ]
  },
  {
   "cell_type": "code",
   "execution_count": 255,
   "id": "69b56dd6",
   "metadata": {},
   "outputs": [
    {
     "data": {
      "text/plain": [
       "RelationshipSatisfaction\n",
       "Low          0.144928\n",
       "Medium       0.078947\n",
       "High         0.165217\n",
       "Very_High    0.129630\n",
       "Name: Attrition, dtype: float64"
      ]
     },
     "execution_count": 255,
     "metadata": {},
     "output_type": "execute_result"
    }
   ],
   "source": [
    "# stratified mean:\n",
    "stratified_mean = attrition_stratified.groupby('RelationshipSatisfaction').Attrition.mean()\n",
    "stratified_mean"
   ]
  },
  {
   "cell_type": "code",
   "execution_count": 256,
   "id": "222d1746",
   "metadata": {},
   "outputs": [
    {
     "data": {
      "text/plain": [
       "RelationshipSatisfaction\n",
       "High         0.157609\n",
       "Very_High    0.146739\n",
       "Name: Attrition, dtype: float64"
      ]
     },
     "execution_count": 256,
     "metadata": {},
     "output_type": "execute_result"
    }
   ],
   "source": [
    "# clustered mean\n",
    "clustered_mean = attrition_clustered.groupby('RelationshipSatisfaction').Attrition.mean()\n",
    "clustered_mean"
   ]
  },
  {
   "cell_type": "code",
   "execution_count": null,
   "id": "121bd518",
   "metadata": {},
   "outputs": [],
   "source": []
  },
  {
   "cell_type": "markdown",
   "id": "5c131d2c",
   "metadata": {},
   "source": [
    "### Quantifying the Accuracy of Sampling Statistics\n",
    "\n",
    "This can be done using **relative error**. Measure **variation** in estimates is done by generating **sampling distribution**.\n",
    "\n",
    "When we calculate sample mean, we want it to be close to the population mean. The size of the sample data is important in determining how close the sample statistics will be to the population statistics. The larger the sample size, the more the points estimate gets closer to the population parameter and so can be used to represent the population parameter.\n",
    "\n",
    "**relative error** = $\\frac{|Population Parameter - Point Estimate|}{Population Parameter}$"
   ]
  },
  {
   "cell_type": "code",
   "execution_count": 258,
   "id": "a3e43682",
   "metadata": {},
   "outputs": [],
   "source": [
    "# Generate a simple random sample of 50 rows, with seed 2022\n",
    "attrition_srs50 = attrition_population.sample(n=50, random_state=2022)"
   ]
  },
  {
   "cell_type": "code",
   "execution_count": 259,
   "id": "d31888c8",
   "metadata": {},
   "outputs": [
    {
     "data": {
      "text/plain": [
       "0.06"
      ]
     },
     "execution_count": 259,
     "metadata": {},
     "output_type": "execute_result"
    }
   ],
   "source": [
    "# Calculate the mean employee attrition in the sample\n",
    "mean_attrition_srs50 = attrition_srs50['Attrition'].mean()\n",
    "mean_attrition_srs50"
   ]
  },
  {
   "cell_type": "code",
   "execution_count": 262,
   "id": "1c4429d1",
   "metadata": {},
   "outputs": [
    {
     "data": {
      "text/plain": [
       "RelationshipSatisfaction\n",
       "Low          70.947368\n",
       "Medium       59.600000\n",
       "High         61.211268\n",
       "Very_High    59.500000\n",
       "Name: Attrition, dtype: float64"
      ]
     },
     "execution_count": 262,
     "metadata": {},
     "output_type": "execute_result"
    }
   ],
   "source": [
    "# relative error: between the population attrition mean and sampled attrition mean \n",
    "rel_error = (abs(pop_mean - mean_attrition_srs50) / pop_mean) * 100\n",
    "rel_error "
   ]
  },
  {
   "cell_type": "code",
   "execution_count": null,
   "id": "8c74bb88",
   "metadata": {},
   "outputs": [],
   "source": []
  },
  {
   "cell_type": "code",
   "execution_count": 268,
   "id": "8c2a90e6",
   "metadata": {},
   "outputs": [
    {
     "data": {
      "text/plain": [
       "RelationshipSatisfaction\n",
       "Low          27.368421\n",
       "Medium        1.000000\n",
       "High          3.028169\n",
       "Very_High     1.250000\n",
       "Name: Attrition, dtype: float64"
      ]
     },
     "execution_count": 268,
     "metadata": {},
     "output_type": "execute_result"
    }
   ],
   "source": [
    "# using a smapled data of 100 observations\n",
    "attrition_srs100 = attrition_population.sample(n=100, random_state=2022)\n",
    "\n",
    "# Calculate the mean employee attrition in the sample\n",
    "mean_attrition_srs100 = attrition_srs100['Attrition'].mean()\n",
    "\n",
    "# relative error: between the population attrition mean and sampled attrition mean \n",
    "rel_error = (abs(pop_mean - mean_attrition_srs100) / pop_mean) * 100\n",
    "\n",
    "rel_error "
   ]
  },
  {
   "cell_type": "markdown",
   "id": "5f2f09b7",
   "metadata": {},
   "source": [
    "As can be seen, when the sample size was fifty, the point estimate of each relationship satisfaction level was far from population paramer. But when we increased it by fifty (hundred observations), it relative error reduced and the point estimate gets closer to the population parameter."
   ]
  },
  {
   "cell_type": "markdown",
   "id": "0b2ff3f4",
   "metadata": {},
   "source": [
    "**Measuring variation in the sample data**: when we obtain our sample data, the values of the sample data were selected randomly from the population data. This will introduce randomness into the point estimate of the sampel.\n",
    "\n",
    "To measure the variation cuased by this randomness, we can create several samples from the population data and compute the point estimate for each samples."
   ]
  },
  {
   "cell_type": "code",
   "execution_count": 279,
   "id": "975c0000",
   "metadata": {},
   "outputs": [
    {
     "name": "stdout",
     "output_type": "stream",
     "text": [
      "0.05 0.317\n"
     ]
    },
    {
     "data": {
      "text/plain": [
       "[0.217, 0.15, 0.25, 0.133, 0.25, 0.1, 0.2, 0.217, 0.183, 0.183]"
      ]
     },
     "execution_count": 279,
     "metadata": {},
     "output_type": "execute_result"
    }
   ],
   "source": [
    "# create 500 point estimates for 500 samples of size 60 each from the population data\n",
    "\n",
    "sample_point_estimates = []\n",
    "\n",
    "for i in range(500):\n",
    "    sample_point_estimates.append(round(attrition_population.sample(n=60)['Attrition'].mean(), 3))\n",
    "\n",
    "print(min(sample_point_estimates), max(sample_point_estimates))\n",
    "# print the first 10 observations\n",
    "sample_point_estimates[:10]"
   ]
  },
  {
   "cell_type": "code",
   "execution_count": 277,
   "id": "349f2611",
   "metadata": {},
   "outputs": [
    {
     "data": {
      "image/png": "[encoded data removed]",
      "text/plain": [
       "<Figure size 432x288 with 1 Axes>"
      ]
     },
     "metadata": {
      "needs_background": "light"
     },
     "output_type": "display_data"
    }
   ],
   "source": [
    "# draw a histogram chart for the result with 16 bins\n",
    "plt.hist(sample_point_estimates, bins=16)\n",
    "plt.show()"
   ]
  },
  {
   "cell_type": "markdown",
   "id": "b1662802",
   "metadata": {},
   "source": [
    "As the sample size increases, the range of the calculated sample mean decreses. In the above for loop, you can increase the size of the sample by two (total of 120) and observe how it affects the range of the estimated sample means."
   ]
  },
  {
   "cell_type": "markdown",
   "id": "a474502f",
   "metadata": {},
   "source": [
    "#### Sampling Distribution\n",
    "\n",
    "Sample distribution is the distribution of sample statistics.\n",
    "\n",
    "Knowing the sample statistics help us to quantify the variation of point estimates (sample statistics) we are interested in.\n",
    "\n",
    "There can be two ways we can calculate sampling distribution called: **exact sampling distribution** and **approximte sampling distribution**."
   ]
  },
  {
   "cell_type": "markdown",
   "id": "f18468b0",
   "metadata": {},
   "source": [
    "**Exact Sampling Distribution**: The exact sampling distribution shows all possible variations of the point estimate that you are interested in.\n",
    "\n",
    "Let’s take another look at the sampling distribution of dice rolls. This time, we’ll look at five eight-sided dice. (These have the numbers one to eight.)"
   ]
  },
  {
   "cell_type": "code",
   "execution_count": 280,
   "id": "23f3c4d5",
   "metadata": {},
   "outputs": [
    {
     "data": {
      "text/html": [
       "<div>\n",
       "<style scoped>\n",
       "    .dataframe tbody tr th:only-of-type {\n",
       "        vertical-align: middle;\n",
       "    }\n",
       "\n",
       "    .dataframe tbody tr th {\n",
       "        vertical-align: top;\n",
       "    }\n",
       "\n",
       "    .dataframe thead th {\n",
       "        text-align: right;\n",
       "    }\n",
       "</style>\n",
       "<table border=\"1\" class=\"dataframe\">\n",
       "  <thead>\n",
       "    <tr style=\"text-align: right;\">\n",
       "      <th></th>\n",
       "      <th>die1</th>\n",
       "      <th>die2</th>\n",
       "      <th>die3</th>\n",
       "      <th>die4</th>\n",
       "      <th>die5</th>\n",
       "    </tr>\n",
       "  </thead>\n",
       "  <tbody>\n",
       "    <tr>\n",
       "      <th>0</th>\n",
       "      <td>1</td>\n",
       "      <td>1</td>\n",
       "      <td>1</td>\n",
       "      <td>1</td>\n",
       "      <td>1</td>\n",
       "    </tr>\n",
       "    <tr>\n",
       "      <th>1</th>\n",
       "      <td>1</td>\n",
       "      <td>1</td>\n",
       "      <td>1</td>\n",
       "      <td>1</td>\n",
       "      <td>2</td>\n",
       "    </tr>\n",
       "    <tr>\n",
       "      <th>2</th>\n",
       "      <td>1</td>\n",
       "      <td>1</td>\n",
       "      <td>1</td>\n",
       "      <td>1</td>\n",
       "      <td>3</td>\n",
       "    </tr>\n",
       "    <tr>\n",
       "      <th>3</th>\n",
       "      <td>1</td>\n",
       "      <td>1</td>\n",
       "      <td>1</td>\n",
       "      <td>1</td>\n",
       "      <td>4</td>\n",
       "    </tr>\n",
       "    <tr>\n",
       "      <th>4</th>\n",
       "      <td>1</td>\n",
       "      <td>1</td>\n",
       "      <td>1</td>\n",
       "      <td>1</td>\n",
       "      <td>5</td>\n",
       "    </tr>\n",
       "    <tr>\n",
       "      <th>...</th>\n",
       "      <td>...</td>\n",
       "      <td>...</td>\n",
       "      <td>...</td>\n",
       "      <td>...</td>\n",
       "      <td>...</td>\n",
       "    </tr>\n",
       "    <tr>\n",
       "      <th>32763</th>\n",
       "      <td>8</td>\n",
       "      <td>8</td>\n",
       "      <td>8</td>\n",
       "      <td>8</td>\n",
       "      <td>4</td>\n",
       "    </tr>\n",
       "    <tr>\n",
       "      <th>32764</th>\n",
       "      <td>8</td>\n",
       "      <td>8</td>\n",
       "      <td>8</td>\n",
       "      <td>8</td>\n",
       "      <td>5</td>\n",
       "    </tr>\n",
       "    <tr>\n",
       "      <th>32765</th>\n",
       "      <td>8</td>\n",
       "      <td>8</td>\n",
       "      <td>8</td>\n",
       "      <td>8</td>\n",
       "      <td>6</td>\n",
       "    </tr>\n",
       "    <tr>\n",
       "      <th>32766</th>\n",
       "      <td>8</td>\n",
       "      <td>8</td>\n",
       "      <td>8</td>\n",
       "      <td>8</td>\n",
       "      <td>7</td>\n",
       "    </tr>\n",
       "    <tr>\n",
       "      <th>32767</th>\n",
       "      <td>8</td>\n",
       "      <td>8</td>\n",
       "      <td>8</td>\n",
       "      <td>8</td>\n",
       "      <td>8</td>\n",
       "    </tr>\n",
       "  </tbody>\n",
       "</table>\n",
       "<p>32768 rows × 5 columns</p>\n",
       "</div>"
      ],
      "text/plain": [
       "       die1  die2  die3  die4  die5\n",
       "0         1     1     1     1     1\n",
       "1         1     1     1     1     2\n",
       "2         1     1     1     1     3\n",
       "3         1     1     1     1     4\n",
       "4         1     1     1     1     5\n",
       "...     ...   ...   ...   ...   ...\n",
       "32763     8     8     8     8     4\n",
       "32764     8     8     8     8     5\n",
       "32765     8     8     8     8     6\n",
       "32766     8     8     8     8     7\n",
       "32767     8     8     8     8     8\n",
       "\n",
       "[32768 rows x 5 columns]"
      ]
     },
     "execution_count": 280,
     "metadata": {},
     "output_type": "execute_result"
    }
   ],
   "source": [
    "import itertools\n",
    "def expand_grid(data_dict):\n",
    "    rows = itertools.product(*data_dict.values())\n",
    "    return pd.DataFrame.from_records(rows, columns=data_dict.keys())\n",
    "\n",
    "# Expand a grid representing 5 8-sided dice: all possible combination of the 5 8-sided dice\n",
    "dice = expand_grid(\n",
    "  {'die1': [1, 2, 3, 4, 5, 6, 7, 8],\n",
    "   'die2': [1, 2, 3, 4, 5, 6, 7, 8],\n",
    "   'die3': [1, 2, 3, 4, 5, 6, 7, 8],\n",
    "   'die4': [1, 2, 3, 4, 5, 6, 7, 8],\n",
    "   'die5': [1, 2, 3, 4, 5, 6, 7, 8]\n",
    "  })\n",
    "\n",
    "dice"
   ]
  },
  {
   "cell_type": "code",
   "execution_count": 281,
   "id": "ea0979c0",
   "metadata": {},
   "outputs": [
    {
     "data": {
      "text/html": [
       "<div>\n",
       "<style scoped>\n",
       "    .dataframe tbody tr th:only-of-type {\n",
       "        vertical-align: middle;\n",
       "    }\n",
       "\n",
       "    .dataframe tbody tr th {\n",
       "        vertical-align: top;\n",
       "    }\n",
       "\n",
       "    .dataframe thead th {\n",
       "        text-align: right;\n",
       "    }\n",
       "</style>\n",
       "<table border=\"1\" class=\"dataframe\">\n",
       "  <thead>\n",
       "    <tr style=\"text-align: right;\">\n",
       "      <th></th>\n",
       "      <th>die1</th>\n",
       "      <th>die2</th>\n",
       "      <th>die3</th>\n",
       "      <th>die4</th>\n",
       "      <th>die5</th>\n",
       "      <th>mean_roll</th>\n",
       "    </tr>\n",
       "  </thead>\n",
       "  <tbody>\n",
       "    <tr>\n",
       "      <th>0</th>\n",
       "      <td>1</td>\n",
       "      <td>1</td>\n",
       "      <td>1</td>\n",
       "      <td>1</td>\n",
       "      <td>1</td>\n",
       "      <td>1.0</td>\n",
       "    </tr>\n",
       "    <tr>\n",
       "      <th>1</th>\n",
       "      <td>1</td>\n",
       "      <td>1</td>\n",
       "      <td>1</td>\n",
       "      <td>1</td>\n",
       "      <td>2</td>\n",
       "      <td>1.2</td>\n",
       "    </tr>\n",
       "    <tr>\n",
       "      <th>2</th>\n",
       "      <td>1</td>\n",
       "      <td>1</td>\n",
       "      <td>1</td>\n",
       "      <td>1</td>\n",
       "      <td>3</td>\n",
       "      <td>1.4</td>\n",
       "    </tr>\n",
       "    <tr>\n",
       "      <th>3</th>\n",
       "      <td>1</td>\n",
       "      <td>1</td>\n",
       "      <td>1</td>\n",
       "      <td>1</td>\n",
       "      <td>4</td>\n",
       "      <td>1.6</td>\n",
       "    </tr>\n",
       "    <tr>\n",
       "      <th>4</th>\n",
       "      <td>1</td>\n",
       "      <td>1</td>\n",
       "      <td>1</td>\n",
       "      <td>1</td>\n",
       "      <td>5</td>\n",
       "      <td>1.8</td>\n",
       "    </tr>\n",
       "    <tr>\n",
       "      <th>...</th>\n",
       "      <td>...</td>\n",
       "      <td>...</td>\n",
       "      <td>...</td>\n",
       "      <td>...</td>\n",
       "      <td>...</td>\n",
       "      <td>...</td>\n",
       "    </tr>\n",
       "    <tr>\n",
       "      <th>32763</th>\n",
       "      <td>8</td>\n",
       "      <td>8</td>\n",
       "      <td>8</td>\n",
       "      <td>8</td>\n",
       "      <td>4</td>\n",
       "      <td>7.2</td>\n",
       "    </tr>\n",
       "    <tr>\n",
       "      <th>32764</th>\n",
       "      <td>8</td>\n",
       "      <td>8</td>\n",
       "      <td>8</td>\n",
       "      <td>8</td>\n",
       "      <td>5</td>\n",
       "      <td>7.4</td>\n",
       "    </tr>\n",
       "    <tr>\n",
       "      <th>32765</th>\n",
       "      <td>8</td>\n",
       "      <td>8</td>\n",
       "      <td>8</td>\n",
       "      <td>8</td>\n",
       "      <td>6</td>\n",
       "      <td>7.6</td>\n",
       "    </tr>\n",
       "    <tr>\n",
       "      <th>32766</th>\n",
       "      <td>8</td>\n",
       "      <td>8</td>\n",
       "      <td>8</td>\n",
       "      <td>8</td>\n",
       "      <td>7</td>\n",
       "      <td>7.8</td>\n",
       "    </tr>\n",
       "    <tr>\n",
       "      <th>32767</th>\n",
       "      <td>8</td>\n",
       "      <td>8</td>\n",
       "      <td>8</td>\n",
       "      <td>8</td>\n",
       "      <td>8</td>\n",
       "      <td>8.0</td>\n",
       "    </tr>\n",
       "  </tbody>\n",
       "</table>\n",
       "<p>32768 rows × 6 columns</p>\n",
       "</div>"
      ],
      "text/plain": [
       "       die1  die2  die3  die4  die5 mean_roll\n",
       "0         1     1     1     1     1       1.0\n",
       "1         1     1     1     1     2       1.2\n",
       "2         1     1     1     1     3       1.4\n",
       "3         1     1     1     1     4       1.6\n",
       "4         1     1     1     1     5       1.8\n",
       "...     ...   ...   ...   ...   ...       ...\n",
       "32763     8     8     8     8     4       7.2\n",
       "32764     8     8     8     8     5       7.4\n",
       "32765     8     8     8     8     6       7.6\n",
       "32766     8     8     8     8     7       7.8\n",
       "32767     8     8     8     8     8       8.0\n",
       "\n",
       "[32768 rows x 6 columns]"
      ]
     },
     "execution_count": 281,
     "metadata": {},
     "output_type": "execute_result"
    }
   ],
   "source": [
    "# find the row-wise mean of the dice table above: as a new column\n",
    "dice['mean_roll'] = (dice['die1'] + dice['die2'] + \n",
    "                     dice['die3'] + dice['die4'] + \n",
    "                     dice['die5']) / 5\n",
    "\n",
    "# change the type to categorical type\n",
    "dice['mean_roll'] = dice['mean_roll'].astype('category')\n",
    "\n",
    "# Print result\n",
    "dice"
   ]
  },
  {
   "cell_type": "code",
   "execution_count": 297,
   "id": "08438d03",
   "metadata": {},
   "outputs": [
    {
     "data": {
      "image/png": "[encoded data removed]",
      "text/plain": [
       "<Figure size 432x288 with 1 Axes>"
      ]
     },
     "metadata": {
      "needs_background": "light"
     },
     "output_type": "display_data"
    }
   ],
   "source": [
    "# creating a bar plot for mean_roll column\n",
    "mean_roll = dice['mean_roll'].value_counts(sort=False)\n",
    "\n",
    "plt.bar(mean_roll.index, mean_roll.values)\n",
    "plt.show()"
   ]
  },
  {
   "cell_type": "markdown",
   "id": "fd6315ba",
   "metadata": {},
   "source": [
    "**Approximate sampling distribution**: this is used to complement the limitation of the exact sample distribution. \n",
    "\n",
    "For example, in the exact sample distribution of 5 8-sided dice, the number of possible outcome is ${8}^{5}$.\n",
    "\n",
    "If we have a larger amount of data, the resulting possile combination will be space and computionaly expensive hence the need for Approximate sampling distribution.\n",
    "\n",
    "Therefore, we can calculate an approximate sampling distribution by simulating the exact sampling distribution. "
   ]
  },
  {
   "cell_type": "code",
   "execution_count": 298,
   "id": "f8ce7040",
   "metadata": {},
   "outputs": [
    {
     "data": {
      "text/plain": [
       "[6.4, 4.8, 3.2, 3.6, 5.4, 3.4, 3.8, 5.2, 3.6, 5.0]"
      ]
     },
     "execution_count": 298,
     "metadata": {},
     "output_type": "execute_result"
    }
   ],
   "source": [
    "# Replicate the sampling code 1000 times\n",
    "sample_means_1000 = []\n",
    "for i in range(1000):\n",
    "    # randomly select 5 numbers between 1 and 9\n",
    "    sample_means_1000.append(\n",
    "        np.random.choice(list(range(1, 9)), size=5, replace=True).mean()\n",
    "    )\n",
    "\n",
    "# Print the first 10 entries of the result\n",
    "sample_means_1000[0:10]"
   ]
  },
  {
   "cell_type": "code",
   "execution_count": 300,
   "id": "568ad46a",
   "metadata": {},
   "outputs": [
    {
     "data": {
      "image/png": "[encoded data removed]",
      "text/plain": [
       "<Figure size 432x288 with 1 Axes>"
      ]
     },
     "metadata": {
      "needs_background": "light"
     },
     "output_type": "display_data"
    }
   ],
   "source": [
    "# Draw a histogram of sample_means_1000 with 20 bins\n",
    "plt.hist(sample_means_1000, bins=20)\n",
    "plt.show()"
   ]
  },
  {
   "cell_type": "markdown",
   "id": "85c3c51b",
   "metadata": {},
   "source": [
    "### Population and Sampling Distribution Means\n",
    "\n",
    "In this section, we wil create three different list of 1000 means each for samples of size 5, 50 and 500 that are randomly selected from population data."
   ]
  },
  {
   "cell_type": "code",
   "execution_count": 303,
   "id": "eb1b2d63",
   "metadata": {},
   "outputs": [],
   "source": [
    "# create a sample distribution of 1000 observation\n",
    "srs_5_dist = []\n",
    "srs_50_dist = []\n",
    "srs_500_dist = []\n",
    "\n",
    "for i in range(1000):\n",
    "    srs_5_dist.append(\n",
    "        attrition_population.sample(n=5)['Attrition'].mean()\n",
    "    )\n",
    "    \n",
    "    srs_50_dist.append(\n",
    "        attrition_population.sample(n=50)['Attrition'].mean()\n",
    "    )\n",
    "    \n",
    "    srs_500_dist.append(\n",
    "        attrition_population.sample(n=500)['Attrition'].mean()\n",
    "    )"
   ]
  },
  {
   "cell_type": "code",
   "execution_count": 317,
   "id": "a5e90bb8",
   "metadata": {},
   "outputs": [],
   "source": [
    "srs_5_dist_mean = round(np.mean(srs_5_dist), 4)\n",
    "srs_50_dist_mean = round(np.mean(srs_50_dist), 4)\n",
    "srs_500_dist_mean = round(np.mean(srs_500_dist), 4)"
   ]
  },
  {
   "cell_type": "code",
   "execution_count": 318,
   "id": "4510abe2",
   "metadata": {},
   "outputs": [
    {
     "name": "stdout",
     "output_type": "stream",
     "text": [
      "Mean of means of samples of size 5:> 0.1676\n",
      "Mean of means of samples of size 50:> 0.1613\n",
      "Mean of means of samples of size 500:> 0.1612\n"
     ]
    }
   ],
   "source": [
    "# calculate the mean of each of the sample\n",
    "print(f\"Mean of means of samples of size 5:> {srs_5_dist_mean}\")\n",
    "print(f\"Mean of means of samples of size 50:> {srs_50_dist_mean}\")\n",
    "print(f\"Mean of means of samples of size 500:> {srs_500_dist_mean}\")"
   ]
  },
  {
   "cell_type": "code",
   "execution_count": 319,
   "id": "f43022e1",
   "metadata": {},
   "outputs": [
    {
     "name": "stdout",
     "output_type": "stream",
     "text": [
      "Population mean:> 0.1612\n"
     ]
    }
   ],
   "source": [
    "# population attrition mean\n",
    "pop_attrition_mean = round(attrition_population['Attrition'].mean(), 4)\n",
    "print(f\"Population mean:> {pop_attrition_mean}\")"
   ]
  },
  {
   "cell_type": "markdown",
   "id": "efcc36b0",
   "metadata": {},
   "source": [
    "From the result above, we can therefore say, regardless of sample size, the mean of the **sampling distribution** is a close approximation to the **population mean**."
   ]
  },
  {
   "cell_type": "markdown",
   "id": "7d71cfc0",
   "metadata": {},
   "source": [
    "### Population & Sampling Distribution Variation\n",
    "\n",
    "As a result of Central Limit Theorem, the standard deviation of the sample distribution has a interested relationship with the population parameter standard deviation and sample size."
   ]
  },
  {
   "cell_type": "code",
   "execution_count": 320,
   "id": "0d0b2591",
   "metadata": {},
   "outputs": [],
   "source": [
    "srs_5_dist_std = round(np.std(srs_5_dist), 4)\n",
    "srs_50_dist_std = round(np.std(srs_50_dist), 4)\n",
    "srs_500_dist_std = round(np.std(srs_500_dist), 4)"
   ]
  },
  {
   "cell_type": "code",
   "execution_count": 321,
   "id": "91540f9d",
   "metadata": {},
   "outputs": [
    {
     "name": "stdout",
     "output_type": "stream",
     "text": [
      "STD of means of samples of size 5:> 0.1644\n",
      "STD of means of samples of size 50:> 0.0507\n",
      "STD of means of samples of size 500:> 0.013\n"
     ]
    }
   ],
   "source": [
    "# calculate the mean of each of the sample\n",
    "print(f\"STD of means of samples of size 5:> {srs_5_dist_std}\")\n",
    "print(f\"STD of means of samples of size 50:> {srs_50_dist_std}\")\n",
    "print(f\"STD of means of samples of size 500:> {srs_500_dist_std}\")"
   ]
  },
  {
   "cell_type": "code",
   "execution_count": 322,
   "id": "66f37ef6",
   "metadata": {},
   "outputs": [
    {
     "name": "stdout",
     "output_type": "stream",
     "text": [
      "Population STD:> 0.3679\n"
     ]
    }
   ],
   "source": [
    "# population attrition stamdard deviation\n",
    "pop_attrition_std = round(attrition_population['Attrition'].std(), 4)\n",
    "print(f\"Population STD:> {pop_attrition_std}\")"
   ]
  },
  {
   "cell_type": "markdown",
   "id": "5a9f8f68",
   "metadata": {},
   "source": [
    "All the different sample distribution standard deviation seems to be far some close to the population standard deviation.\n",
    "\n",
    "It is noted that the sample distribution standard deviation is approximately equal to population standard deviation according to the formular: $\\frac{population STD}{\\sqrt{Sample SIze}}$  "
   ]
  },
  {
   "cell_type": "code",
   "execution_count": 331,
   "id": "24cbcfca",
   "metadata": {},
   "outputs": [
    {
     "name": "stdout",
     "output_type": "stream",
     "text": [
      "0.16\n",
      "0.05\n",
      "0.02\n"
     ]
    }
   ],
   "source": [
    "all_sample_size = [5, 50, 500]\n",
    "\n",
    "for sample_size in all_sample_size:\n",
    "    print(round(pop_attrition_std / np.sqrt(sample_size), 2))"
   ]
  },
  {
   "cell_type": "code",
   "execution_count": 328,
   "id": "0abd7038",
   "metadata": {},
   "outputs": [
    {
     "data": {
      "text/plain": [
       "0.3679"
      ]
     },
     "execution_count": 328,
     "metadata": {},
     "output_type": "execute_result"
    }
   ],
   "source": [
    "# for mean\n",
    "pop_attrition_std"
   ]
  },
  {
   "cell_type": "markdown",
   "id": "6d678b13",
   "metadata": {},
   "source": [
    "You set the gold standard for standard deviation! The amount of variation in the sampling distribution is related to the amount of variation in the population and the sample size. This is another consequence of the Central Limit Theorem.\n",
    "\n",
    "i.e variation decreases as sample size increases."
   ]
  },
  {
   "cell_type": "code",
   "execution_count": null,
   "id": "d57254c7",
   "metadata": {},
   "outputs": [],
   "source": []
  },
  {
   "cell_type": "markdown",
   "id": "8a124320",
   "metadata": {},
   "source": [
    "### Bootstraping\n",
    "\n",
    "Bootstrapping is, in some sense, the opposite of sampling from a population. Sampling treats your dataset as the population, and you generate a random subset. Bootstrapping treats your dataset as a sample and uses it to build up a theoretical population.\n",
    "\n",
    "The following are true about bbostraping:\n",
    "* Bootstrap resamples should be the same size as the original sample.\n",
    "* Each row in the dataset should have an equally likely chance of being drawn in a resample.\n",
    "* A bootstrap distribution consists of many replicates of the statistic of interest (with replacement).\n",
    "\n",
    "Brilliant bootstrapping! The bootstrapping workflow is to generate a resample of the same size as the population, calculate a summary statistic, then repeat this to get a distribution of summary statistics."
   ]
  },
  {
   "cell_type": "markdown",
   "id": "22e8d456",
   "metadata": {},
   "source": [
    "#### Generating a Bootstrap Distribution"
   ]
  },
  {
   "cell_type": "code",
   "execution_count": 334,
   "id": "d4e2dbc0",
   "metadata": {},
   "outputs": [
    {
     "data": {
      "text/plain": [
       "(1000, 20)"
      ]
     },
     "execution_count": 334,
     "metadata": {},
     "output_type": "execute_result"
    }
   ],
   "source": [
    "spotify_sample.shape"
   ]
  },
  {
   "cell_type": "code",
   "execution_count": 337,
   "id": "d242551d",
   "metadata": {},
   "outputs": [
    {
     "data": {
      "text/html": [
       "<div>\n",
       "<style scoped>\n",
       "    .dataframe tbody tr th:only-of-type {\n",
       "        vertical-align: middle;\n",
       "    }\n",
       "\n",
       "    .dataframe tbody tr th {\n",
       "        vertical-align: top;\n",
       "    }\n",
       "\n",
       "    .dataframe thead th {\n",
       "        text-align: right;\n",
       "    }\n",
       "</style>\n",
       "<table border=\"1\" class=\"dataframe\">\n",
       "  <thead>\n",
       "    <tr style=\"text-align: right;\">\n",
       "      <th></th>\n",
       "      <th>acousticness</th>\n",
       "      <th>artists</th>\n",
       "      <th>danceability</th>\n",
       "      <th>duration_ms</th>\n",
       "      <th>duration_minutes</th>\n",
       "      <th>energy</th>\n",
       "      <th>explicit</th>\n",
       "      <th>id</th>\n",
       "      <th>instrumentalness</th>\n",
       "      <th>key</th>\n",
       "      <th>liveness</th>\n",
       "      <th>loudness</th>\n",
       "      <th>mode</th>\n",
       "      <th>name</th>\n",
       "      <th>popularity</th>\n",
       "      <th>release_date</th>\n",
       "      <th>speechiness</th>\n",
       "      <th>tempo</th>\n",
       "      <th>valence</th>\n",
       "      <th>year</th>\n",
       "    </tr>\n",
       "  </thead>\n",
       "  <tbody>\n",
       "    <tr>\n",
       "      <th>851</th>\n",
       "      <td>0.000214</td>\n",
       "      <td>['We Were Promised Jetpacks']</td>\n",
       "      <td>0.230</td>\n",
       "      <td>261427.0</td>\n",
       "      <td>4.357117</td>\n",
       "      <td>0.931</td>\n",
       "      <td>0.0</td>\n",
       "      <td>35ON1xFiywJOT66gLbPtI3</td>\n",
       "      <td>0.018900</td>\n",
       "      <td>4.0</td>\n",
       "      <td>0.1060</td>\n",
       "      <td>-4.313</td>\n",
       "      <td>1.0</td>\n",
       "      <td>Quiet Little Voices</td>\n",
       "      <td>51.0</td>\n",
       "      <td>2009-06-15</td>\n",
       "      <td>0.0637</td>\n",
       "      <td>171.861</td>\n",
       "      <td>0.428</td>\n",
       "      <td>2009.0</td>\n",
       "    </tr>\n",
       "    <tr>\n",
       "      <th>934</th>\n",
       "      <td>0.093600</td>\n",
       "      <td>['Carrie Underwood']</td>\n",
       "      <td>0.548</td>\n",
       "      <td>274267.0</td>\n",
       "      <td>4.571117</td>\n",
       "      <td>0.775</td>\n",
       "      <td>0.0</td>\n",
       "      <td>5d98TnYzxQmFE4vKgzWXuT</td>\n",
       "      <td>0.000000</td>\n",
       "      <td>8.0</td>\n",
       "      <td>0.0721</td>\n",
       "      <td>-3.285</td>\n",
       "      <td>1.0</td>\n",
       "      <td>Wasted</td>\n",
       "      <td>51.0</td>\n",
       "      <td>2005-11-14</td>\n",
       "      <td>0.0306</td>\n",
       "      <td>94.998</td>\n",
       "      <td>0.311</td>\n",
       "      <td>2005.0</td>\n",
       "    </tr>\n",
       "    <tr>\n",
       "      <th>345</th>\n",
       "      <td>0.023800</td>\n",
       "      <td>['Wu-Tang Clan']</td>\n",
       "      <td>0.831</td>\n",
       "      <td>296427.0</td>\n",
       "      <td>4.940450</td>\n",
       "      <td>0.571</td>\n",
       "      <td>1.0</td>\n",
       "      <td>7hUNOFpJNxK3EdryB5PqAJ</td>\n",
       "      <td>0.000000</td>\n",
       "      <td>11.0</td>\n",
       "      <td>0.6880</td>\n",
       "      <td>-5.648</td>\n",
       "      <td>1.0</td>\n",
       "      <td>Careful (Click, Click)</td>\n",
       "      <td>44.0</td>\n",
       "      <td>2000-11-20</td>\n",
       "      <td>0.3030</td>\n",
       "      <td>90.367</td>\n",
       "      <td>0.438</td>\n",
       "      <td>2000.0</td>\n",
       "    </tr>\n",
       "    <tr>\n",
       "      <th>956</th>\n",
       "      <td>0.042000</td>\n",
       "      <td>['Seth Ennis']</td>\n",
       "      <td>0.687</td>\n",
       "      <td>195418.0</td>\n",
       "      <td>3.256967</td>\n",
       "      <td>0.625</td>\n",
       "      <td>0.0</td>\n",
       "      <td>7AK5vh1cRnO3YxAjOjL4Yy</td>\n",
       "      <td>0.000000</td>\n",
       "      <td>1.0</td>\n",
       "      <td>0.1510</td>\n",
       "      <td>-6.942</td>\n",
       "      <td>0.0</td>\n",
       "      <td>Look At You</td>\n",
       "      <td>63.0</td>\n",
       "      <td>2017-08-11</td>\n",
       "      <td>0.0284</td>\n",
       "      <td>104.027</td>\n",
       "      <td>0.866</td>\n",
       "      <td>2017.0</td>\n",
       "    </tr>\n",
       "    <tr>\n",
       "      <th>675</th>\n",
       "      <td>0.000080</td>\n",
       "      <td>['Yellowcard']</td>\n",
       "      <td>0.477</td>\n",
       "      <td>257400.0</td>\n",
       "      <td>4.290000</td>\n",
       "      <td>0.907</td>\n",
       "      <td>0.0</td>\n",
       "      <td>0gZp88SA5OcujHLDGkxtI3</td>\n",
       "      <td>0.000078</td>\n",
       "      <td>1.0</td>\n",
       "      <td>0.1490</td>\n",
       "      <td>-4.814</td>\n",
       "      <td>0.0</td>\n",
       "      <td>Only One</td>\n",
       "      <td>64.0</td>\n",
       "      <td>2003-01-01</td>\n",
       "      <td>0.0899</td>\n",
       "      <td>81.291</td>\n",
       "      <td>0.304</td>\n",
       "      <td>2003.0</td>\n",
       "    </tr>\n",
       "  </tbody>\n",
       "</table>\n",
       "</div>"
      ],
      "text/plain": [
       "     acousticness                        artists  danceability  duration_ms  \\\n",
       "851      0.000214  ['We Were Promised Jetpacks']         0.230     261427.0   \n",
       "934      0.093600           ['Carrie Underwood']         0.548     274267.0   \n",
       "345      0.023800               ['Wu-Tang Clan']         0.831     296427.0   \n",
       "956      0.042000                 ['Seth Ennis']         0.687     195418.0   \n",
       "675      0.000080                 ['Yellowcard']         0.477     257400.0   \n",
       "\n",
       "     duration_minutes  energy  explicit                      id  \\\n",
       "851          4.357117   0.931       0.0  35ON1xFiywJOT66gLbPtI3   \n",
       "934          4.571117   0.775       0.0  5d98TnYzxQmFE4vKgzWXuT   \n",
       "345          4.940450   0.571       1.0  7hUNOFpJNxK3EdryB5PqAJ   \n",
       "956          3.256967   0.625       0.0  7AK5vh1cRnO3YxAjOjL4Yy   \n",
       "675          4.290000   0.907       0.0  0gZp88SA5OcujHLDGkxtI3   \n",
       "\n",
       "     instrumentalness   key  liveness  loudness  mode                    name  \\\n",
       "851          0.018900   4.0    0.1060    -4.313   1.0     Quiet Little Voices   \n",
       "934          0.000000   8.0    0.0721    -3.285   1.0                  Wasted   \n",
       "345          0.000000  11.0    0.6880    -5.648   1.0  Careful (Click, Click)   \n",
       "956          0.000000   1.0    0.1510    -6.942   0.0             Look At You   \n",
       "675          0.000078   1.0    0.1490    -4.814   0.0                Only One   \n",
       "\n",
       "     popularity release_date  speechiness    tempo  valence    year  \n",
       "851        51.0   2009-06-15       0.0637  171.861    0.428  2009.0  \n",
       "934        51.0   2005-11-14       0.0306   94.998    0.311  2005.0  \n",
       "345        44.0   2000-11-20       0.3030   90.367    0.438  2000.0  \n",
       "956        63.0   2017-08-11       0.0284  104.027    0.866  2017.0  \n",
       "675        64.0   2003-01-01       0.0899   81.291    0.304  2003.0  "
      ]
     },
     "execution_count": 337,
     "metadata": {},
     "output_type": "execute_result"
    }
   ],
   "source": [
    "# Generate 1 bootstrap resample from the spotify data import in the begining of this notebook\n",
    "# spotify sample is a sample of 1000 observations gotten from the whole population data\n",
    "spotify_1_resample = spotify_sample.sample(frac=1, replace=True)\n",
    "\n",
    "# Print the resample\n",
    "spotify_1_resample.head()"
   ]
  },
  {
   "cell_type": "code",
   "execution_count": 339,
   "id": "0c07db1b",
   "metadata": {},
   "outputs": [
    {
     "data": {
      "text/plain": [
       "0.5909"
      ]
     },
     "execution_count": 339,
     "metadata": {},
     "output_type": "execute_result"
    }
   ],
   "source": [
    "# Calculate mean danceability of resample\n",
    "mean_danceability_1 = np.mean(spotify_1_resample['danceability'])\n",
    "\n",
    "# Print the result\n",
    "round(np.mean(mean_danceability_1), 4)"
   ]
  },
  {
   "cell_type": "code",
   "execution_count": 343,
   "id": "66762d62",
   "metadata": {},
   "outputs": [
    {
     "name": "stdout",
     "output_type": "stream",
     "text": [
      "[0.5771, 0.5926, 0.6033, 0.6024, 0.5923, 0.5963, 0.605, 0.5983, 0.5939, 0.5856]\n"
     ]
    }
   ],
   "source": [
    "# Replicate the above 1000 times\n",
    "mean_danceability_1000 = []\n",
    "for i in range(1000):\n",
    "    mean_danceability_1000.append(\n",
    "        round(np.mean(spotify_sample.sample(frac=1, replace=True)['danceability']), 4)\n",
    "    )\n",
    "\n",
    "# Print the result\n",
    "print(mean_danceability_1000[:10])"
   ]
  },
  {
   "cell_type": "code",
   "execution_count": 345,
   "id": "d057555d",
   "metadata": {},
   "outputs": [
    {
     "data": {
      "image/png": "[encoded data removed]",
      "text/plain": [
       "<Figure size 432x288 with 1 Axes>"
      ]
     },
     "metadata": {
      "needs_background": "light"
     },
     "output_type": "display_data"
    }
   ],
   "source": [
    "# draw a histogram of the bootstrap distribution\n",
    "plt.hist(mean_danceability_1000)\n",
    "plt.show()"
   ]
  },
  {
   "cell_type": "markdown",
   "id": "d81c5324",
   "metadata": {},
   "source": [
    "From the above process with a sample from the population data, we can estimate the population statistic using bootstrap method."
   ]
  },
  {
   "cell_type": "markdown",
   "id": "d90c633b",
   "metadata": {},
   "source": [
    "### Bootstrap Statistics and Population Statistics\n",
    "\n",
    "Bootstrap distribution statistics can be used to estimate population parameters. But can you always rely on them to give an accurate estimate of an unknown population parameter?\n",
    "\n",
    "Should the mean and the standard deviation of the bootstrap distribution both be used to estimate the corresponding values of the population?\n",
    "\n",
    "Consider the following proven statement:\n",
    "* The mean of the bootstrap distribution will always be near the sample mean, which may not necessarily be very close to the population mean.\n",
    "* Yes, the variability of the sample, the population, the bootstrap distribution, and the sampling distribution will all be similar regardless of the sample size selected.\n",
    "\n",
    "Super standard error reasoning! If the sample is not closely representative of the population, then the mean of the bootstrap distribution will not be representative of the population mean. This is less of a problem for standard errors."
   ]
  },
  {
   "cell_type": "markdown",
   "id": "04cae0d8",
   "metadata": {},
   "source": [
    "### Sampline Distribution and Bootstrap Distribution\n",
    "\n",
    "The sampling distribution and bootstrap distribution are closely linked. In situations where you can repeatedly sample from a population (these occasions are rare), it’s helpful to generate both the sampling distribution and the bootstrap distribution, one after the other, to see how they are related."
   ]
  },
  {
   "cell_type": "code",
   "execution_count": 347,
   "id": "6f29fbd6",
   "metadata": {},
   "outputs": [
    {
     "data": {
      "text/plain": [
       "[54.366, 54.506, 54.112, 54.338, 54.252, 54.422, 54.648, 56.072, 54.78, 55.256]"
      ]
     },
     "execution_count": 347,
     "metadata": {},
     "output_type": "execute_result"
    }
   ],
   "source": [
    "mean_popularity_2000_samp = []\n",
    "\n",
    "# Generate a sampling distribution of 2000 replicates\n",
    "for i in range(2000):\n",
    "    mean_popularity_2000_samp.append(\n",
    "        # Sample 500 rows and calculate the mean popularity     \n",
    "        spotify_population.sample(n=500)['popularity'].mean()\n",
    "    )\n",
    "\n",
    "# Print the sampling distribution results\n",
    "mean_popularity_2000_samp[:10]"
   ]
  },
  {
   "cell_type": "code",
   "execution_count": 348,
   "id": "2ad2e7ee",
   "metadata": {},
   "outputs": [
    {
     "data": {
      "text/plain": [
       "[54.706, 55.94, 55.232, 54.848, 55.11, 53.9, 55.974, 54.322, 54.73, 55.052]"
      ]
     },
     "execution_count": 348,
     "metadata": {},
     "output_type": "execute_result"
    }
   ],
   "source": [
    "# resample the spotify_sample data to obtain 500 samples from it: done with replacement\n",
    "mean_popularity_2000_boot = []\n",
    "\n",
    "# Generate a bootstrap distribution of 2000 replicates\n",
    "for i in range(2000):\n",
    "    mean_popularity_2000_boot.append(\n",
    "        # Resample 500 rows and calculate the mean popularity\n",
    "        spotify_sample.sample(n=500, replace=True)['popularity'].mean()\n",
    "    )\n",
    "\n",
    "# Print the bootstrap distribution results\n",
    "mean_popularity_2000_boot[:10]"
   ]
  },
  {
   "cell_type": "code",
   "execution_count": null,
   "id": "139fc453",
   "metadata": {},
   "outputs": [],
   "source": []
  },
  {
   "cell_type": "markdown",
   "id": "13a2a2c0",
   "metadata": {},
   "source": [
    "### Compare Population, Sampling, Sampling Distribution and Bootstrap Distribuion Means\n",
    "\n",
    "This time around with 5000 samples and then calculating the `popularity` column mean."
   ]
  },
  {
   "cell_type": "code",
   "execution_count": 367,
   "id": "0c8eecdf",
   "metadata": {},
   "outputs": [
    {
     "data": {
      "text/plain": [
       "54.837"
      ]
     },
     "execution_count": 367,
     "metadata": {},
     "output_type": "execute_result"
    }
   ],
   "source": [
    "# mean of the popularity column\n",
    "pop_popularity_mean = round(np.mean(spotify_population['popularity']), 3)\n",
    "pop_popularity_mean"
   ]
  },
  {
   "cell_type": "code",
   "execution_count": 375,
   "id": "24f11c4d",
   "metadata": {},
   "outputs": [
    {
     "data": {
      "text/plain": [
       "54.849"
      ]
     },
     "execution_count": 375,
     "metadata": {},
     "output_type": "execute_result"
    }
   ],
   "source": [
    "# 5000 samples data from the population\n",
    "spotify_sample_5000 = spotify_population.sample(n=5000)\n",
    "\n",
    "# mean of popularity column\n",
    "spotify_sample_popularity_mean = round(np.mean(spotify_sample_5000['popularity']), 3)\n",
    "\n",
    "spotify_sample_popularity_mean "
   ]
  },
  {
   "cell_type": "code",
   "execution_count": 395,
   "id": "a6ed16f3",
   "metadata": {},
   "outputs": [],
   "source": [
    "# sample distribution mean\n",
    "spotify_sample_dist_5000 = []\n",
    "# bootstrap distribution\n",
    "for i in range(5000):\n",
    "    spotify_sample_dist_5000.append(\n",
    "        # Resample 500 rows and calculate the mean popularity\n",
    "        spotify_population.sample(n=500)['popularity'].mean()\n",
    "    ) "
   ]
  },
  {
   "cell_type": "code",
   "execution_count": 396,
   "id": "360b62ae",
   "metadata": {},
   "outputs": [
    {
     "data": {
      "text/plain": [
       "54.829"
      ]
     },
     "execution_count": 396,
     "metadata": {},
     "output_type": "execute_result"
    }
   ],
   "source": [
    "spotify_sample_dist_mean = round(np.mean(spotify_sample_dist_5000), 3)\n",
    "spotify_sample_dist_mean "
   ]
  },
  {
   "cell_type": "code",
   "execution_count": 397,
   "id": "d382a9b5",
   "metadata": {},
   "outputs": [],
   "source": [
    "# bootstrap distribution\n",
    "spotify_boot_5000 = []\n",
    "for i in range(5000):\n",
    "    spotify_boot_5000.append(\n",
    "        # Resample 500 rows and calculate the mean popularity\n",
    "        spotify_sample_5000.sample(frac=1, replace=True)['popularity'].mean()\n",
    "    )"
   ]
  },
  {
   "cell_type": "code",
   "execution_count": 398,
   "id": "b310e5ea",
   "metadata": {},
   "outputs": [
    {
     "data": {
      "text/plain": [
       "54.85"
      ]
     },
     "execution_count": 398,
     "metadata": {},
     "output_type": "execute_result"
    }
   ],
   "source": [
    "spotify_boot_5000_mean = round(np.mean(spotify_boot_5000), 3)\n",
    "spotify_boot_5000_mean"
   ]
  },
  {
   "cell_type": "code",
   "execution_count": 399,
   "id": "b984d2c8",
   "metadata": {},
   "outputs": [
    {
     "data": {
      "text/plain": [
       "{'population statistics': 54.837,\n",
       " 'sample statistics': 54.837,\n",
       " 'sample dist statistics': 54.829,\n",
       " 'bootstrap dist statistics': 54.85}"
      ]
     },
     "execution_count": 399,
     "metadata": {},
     "output_type": "execute_result"
    }
   ],
   "source": [
    "{'population statistics': pop_popularity_mean, 'sample statistics': pop_popularity_mean,\n",
    " 'sample dist statistics': spotify_sample_dist_mean,\n",
    " 'bootstrap dist statistics': spotify_boot_5000_mean}"
   ]
  },
  {
   "cell_type": "markdown",
   "id": "2237a01e",
   "metadata": {},
   "source": [
    "From the result above, we can conclude that The **sampling distribution mean** is the best estimate of the true **population mean**; the bootstrap distribution mean is closest to the original sample mean."
   ]
  },
  {
   "cell_type": "markdown",
   "id": "570bad45",
   "metadata": {},
   "source": [
    "### Compare sampling and bootstrap standard deviations"
   ]
  },
  {
   "cell_type": "code",
   "execution_count": 382,
   "id": "0715bc1c",
   "metadata": {},
   "outputs": [
    {
     "data": {
      "text/plain": [
       "10.880065274257204"
      ]
     },
     "execution_count": 382,
     "metadata": {},
     "output_type": "execute_result"
    }
   ],
   "source": [
    "# Calculate the population std dev popularity\n",
    "pop_sd = spotify_population['popularity'].std(ddof=0)\n",
    "pop_sd"
   ]
  },
  {
   "cell_type": "code",
   "execution_count": 385,
   "id": "11931528",
   "metadata": {},
   "outputs": [
    {
     "data": {
      "text/plain": [
       "11.155066405293457"
      ]
     },
     "execution_count": 385,
     "metadata": {},
     "output_type": "execute_result"
    }
   ],
   "source": [
    "# Calculate the original sample std dev popularity\n",
    "samp_sd = spotify_sample['popularity'].std()\n",
    "samp_sd"
   ]
  },
  {
   "cell_type": "code",
   "execution_count": 393,
   "id": "aaca20a6",
   "metadata": {},
   "outputs": [
    {
     "data": {
      "text/plain": [
       "11.056942381013089"
      ]
     },
     "execution_count": 393,
     "metadata": {},
     "output_type": "execute_result"
    }
   ],
   "source": [
    "# Calculate the sampling dist'n estimate of std dev popularity\n",
    "samp_distn_sd = np.std(spotify_sample_dist_5000, ddof=1) * np.sqrt(500)\n",
    "samp_distn_sd"
   ]
  },
  {
   "cell_type": "code",
   "execution_count": 401,
   "id": "d611e49f",
   "metadata": {},
   "outputs": [],
   "source": [
    "# Calculate the bootstrap dist'n estimate of std dev (aka standard error) popularity\n",
    "boot_distn_sd = np.std(spotify_boot_5000, ddof=1) * np.sqrt(500)"
   ]
  },
  {
   "cell_type": "code",
   "execution_count": 402,
   "id": "87d64e8c",
   "metadata": {},
   "outputs": [
    {
     "name": "stdout",
     "output_type": "stream",
     "text": [
      "[10.880065274257204, 11.155066405293457, 11.056942381013089, 3.5355148409490402]\n"
     ]
    }
   ],
   "source": [
    "# Print the standard deviations\n",
    "print([pop_sd, samp_sd, samp_distn_sd, boot_distn_sd])"
   ]
  },
  {
   "cell_type": "markdown",
   "id": "d3ec6357",
   "metadata": {},
   "source": [
    "As can be seen, it is concluded that the bootstrap standard deviation is the best estimate of the population standard deviation."
   ]
  },
  {
   "cell_type": "code",
   "execution_count": null,
   "id": "b1825032",
   "metadata": {},
   "outputs": [],
   "source": []
  },
  {
   "cell_type": "markdown",
   "id": "190c4eea",
   "metadata": {},
   "source": [
    "### Interpreting Confidence Interval\n",
    "\n",
    "I’m confident you are correct! Confidence intervals account for uncertainty in our estimate of a population parameter by providing a range of possible values. We are confident that the true value lies somewhere in the interval specified by that range.\n",
    "\n",
    "There are two methods for calculating confidence intervals: the **quantile method** and the **standard error method**. The standard error method involves using the inverse cumulative distribution function (inverse CDF) of the normal distribution to calculate confidence intervals. In this exercise, you’ll perform these two methods on the Spotify data."
   ]
  },
  {
   "cell_type": "markdown",
   "id": "b529c144",
   "metadata": {},
   "source": [
    "Using 95% Confidence Level and 5% Significant Level."
   ]
  },
  {
   "cell_type": "code",
   "execution_count": 403,
   "id": "11b54118",
   "metadata": {},
   "outputs": [
    {
     "name": "stdout",
     "output_type": "stream",
     "text": [
      "(54.536985, 55.159205)\n"
     ]
    }
   ],
   "source": [
    "lower_quant = np.quantile(spotify_boot_5000, 0.025)\n",
    "upper_quant = np.quantile(spotify_boot_5000, 0.975)\n",
    "\n",
    "# Print quantile method confidence interval\n",
    "print((lower_quant, upper_quant))"
   ]
  },
  {
   "cell_type": "markdown",
   "id": "530b0a01",
   "metadata": {},
   "source": [
    "* Calculate point_estimate as the mean of bootstrap_distribution, and standard_error as the standard deviation of bootstrap_distribution"
   ]
  },
  {
   "cell_type": "code",
   "execution_count": 405,
   "id": "096c91cc",
   "metadata": {},
   "outputs": [
    {
     "name": "stdout",
     "output_type": "stream",
     "text": [
      "54.85038311999999 0.1581130303964282\n"
     ]
    }
   ],
   "source": [
    "# Find the mean and std dev of the bootstrap distribution\n",
    "point_estimate = np.mean(spotify_boot_5000)\n",
    "standard_error = np.std(spotify_boot_5000, ddof=1)\n",
    "\n",
    "print(point_estimate, standard_error)"
   ]
  },
  {
   "cell_type": "code",
   "execution_count": 406,
   "id": "8fe585b2",
   "metadata": {},
   "outputs": [
    {
     "name": "stdout",
     "output_type": "stream",
     "text": [
      "(54.5404872749365, 55.160278965063476)\n"
     ]
    }
   ],
   "source": [
    "from scipy.stats import norm\n",
    "\n",
    "# Find the lower limit of the confidence interval\n",
    "lower_se = norm.ppf(0.025, loc=point_estimate, scale=standard_error)\n",
    "\n",
    "# Find the upper limit of the confidence interval\n",
    "upper_se = norm.ppf(0.975, loc=point_estimate, scale=standard_error)\n",
    "\n",
    "# Print standard error method confidence interval\n",
    "print((lower_se, upper_se))"
   ]
  },
  {
   "cell_type": "markdown",
   "id": "81359397",
   "metadata": {},
   "source": [
    "The standard error method for calculating the confidence interval assumes that the bootstrap distribution is normal. This assumption should hold if the sample size and number of replicates are sufficiently large."
   ]
  },
  {
   "cell_type": "markdown",
   "id": "b67a61d8",
   "metadata": {},
   "source": [
    "# THANK YOU!"
   ]
  },
  {
   "cell_type": "code",
   "execution_count": null,
   "id": "21558043",
   "metadata": {},
   "outputs": [],
   "source": []
  }
 ],
 "metadata": {
  "kernelspec": {
   "display_name": "Python 3",
   "language": "python",
   "name": "python3"
  },
  "language_info": {
   "codemirror_mode": {
    "name": "ipython",
    "version": 3
   },
   "file_extension": ".py",
   "mimetype": "text/x-python",
   "name": "python",
   "nbconvert_exporter": "python",
   "pygments_lexer": "ipython3",
   "version": "3.8.8"
  }
 },
 "nbformat": 4,
 "nbformat_minor": 5
}
